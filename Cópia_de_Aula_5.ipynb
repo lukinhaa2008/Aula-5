{
  "nbformat": 4,
  "nbformat_minor": 0,
  "metadata": {
    "colab": {
      "provenance": [],
      "collapsed_sections": [
        "vDHH9W3MVVTM",
        "c0DcAPf7VZtl",
        "fyIQwHZvibhj",
        "1tqjihEAM6J9",
        "dMc8o1TTNKxK",
        "1z0zBDbrRhvc",
        "XOWYnyUYNthN",
        "kIDE5akGRb_3",
        "zYLd6_3ISsoH",
        "BOfak23U5yVv",
        "fwkn-FrvNZen",
        "7Gc4JITt1Dw1",
        "c3GnUhPt5WMb",
        "xf6Ho2aA221e"
      ]
    },
    "kernelspec": {
      "name": "python3",
      "display_name": "Python 3"
    },
    "language_info": {
      "name": "python"
    }
  },
  "cells": [
    {
      "cell_type": "markdown",
      "source": [
        "# Estruturas de Dados\n",
        "\n",
        "https://docs.python.org/3/tutorial/datastructures.html"
      ],
      "metadata": {
        "id": "vDHH9W3MVVTM"
      }
    },
    {
      "cell_type": "markdown",
      "source": [
        "##Listas"
      ],
      "metadata": {
        "id": "c0DcAPf7VZtl"
      }
    },
    {
      "cell_type": "markdown",
      "source": [
        "### Listas"
      ],
      "metadata": {
        "id": "fyIQwHZvibhj"
      }
    },
    {
      "cell_type": "code",
      "source": [
        "var1 = 15\n",
        "var2 = 17\n",
        "var3 = 25\n",
        "var4 = 38"
      ],
      "metadata": {
        "id": "c0NpnNXGOkNk"
      },
      "execution_count": 1,
      "outputs": []
    },
    {
      "cell_type": "code",
      "source": [
        "print(var1, var2, var3, var4)"
      ],
      "metadata": {
        "id": "gXX7LaR3OkKL",
        "colab": {
          "base_uri": "https://localhost:8080/"
        },
        "outputId": "27fc55cb-7499-40b6-d941-bfce55bfb463"
      },
      "execution_count": 2,
      "outputs": [
        {
          "output_type": "stream",
          "name": "stdout",
          "text": [
            "15 17 25 38\n"
          ]
        }
      ]
    },
    {
      "cell_type": "code",
      "source": [
        "lista = [15, 17, 25, 38]"
      ],
      "metadata": {
        "id": "-uSZskKnORon"
      },
      "execution_count": 3,
      "outputs": []
    },
    {
      "cell_type": "code",
      "source": [
        "lista"
      ],
      "metadata": {
        "colab": {
          "base_uri": "https://localhost:8080/"
        },
        "id": "NotVTeqEqNLC",
        "outputId": "1ad86e43-b5a3-45b8-83cd-c4c2c0c009de"
      },
      "execution_count": 4,
      "outputs": [
        {
          "output_type": "execute_result",
          "data": {
            "text/plain": [
              "[15, 17, 25, 38]"
            ]
          },
          "metadata": {},
          "execution_count": 4
        }
      ]
    },
    {
      "cell_type": "markdown",
      "source": [
        "Posição na lista"
      ],
      "metadata": {
        "id": "r_1CkmIT3QNm"
      }
    },
    {
      "cell_type": "code",
      "source": [
        "lista[0]"
      ],
      "metadata": {
        "id": "yQh0_TazORlK",
        "colab": {
          "base_uri": "https://localhost:8080/"
        },
        "outputId": "e38acfec-1b22-4440-befa-122133c11f58"
      },
      "execution_count": 5,
      "outputs": [
        {
          "output_type": "execute_result",
          "data": {
            "text/plain": [
              "15"
            ]
          },
          "metadata": {},
          "execution_count": 5
        }
      ]
    },
    {
      "cell_type": "code",
      "source": [
        "lista[2]"
      ],
      "metadata": {
        "id": "LD8oHm8jORil",
        "colab": {
          "base_uri": "https://localhost:8080/"
        },
        "outputId": "86418fed-e892-4f6c-8c71-cca5f23125da"
      },
      "execution_count": 6,
      "outputs": [
        {
          "output_type": "execute_result",
          "data": {
            "text/plain": [
              "25"
            ]
          },
          "metadata": {},
          "execution_count": 6
        }
      ]
    },
    {
      "cell_type": "code",
      "source": [
        "lista1 = ['Guilherme', 32, 'Professor','SENAI']"
      ],
      "metadata": {
        "id": "9MxxDEfeVdBf"
      },
      "execution_count": 9,
      "outputs": []
    },
    {
      "cell_type": "code",
      "source": [
        "lista1[0]"
      ],
      "metadata": {
        "id": "nBn1Jq7Ikb9e",
        "colab": {
          "base_uri": "https://localhost:8080/",
          "height": 35
        },
        "outputId": "42b62866-2ac8-459b-a68c-4f0ee7d3f1bc"
      },
      "execution_count": 10,
      "outputs": [
        {
          "output_type": "execute_result",
          "data": {
            "text/plain": [
              "'Guilherme'"
            ],
            "application/vnd.google.colaboratory.intrinsic+json": {
              "type": "string"
            }
          },
          "metadata": {},
          "execution_count": 10
        }
      ]
    },
    {
      "cell_type": "code",
      "source": [
        "lista1[1]"
      ],
      "metadata": {
        "id": "B8x2mqG0kcsL",
        "colab": {
          "base_uri": "https://localhost:8080/"
        },
        "outputId": "637472a7-6cda-42cc-8d85-2eda75f7613f"
      },
      "execution_count": 11,
      "outputs": [
        {
          "output_type": "execute_result",
          "data": {
            "text/plain": [
              "32"
            ]
          },
          "metadata": {},
          "execution_count": 11
        }
      ]
    },
    {
      "cell_type": "code",
      "source": [
        "lista1[:3]"
      ],
      "metadata": {
        "id": "3sqHw_idk2NS",
        "colab": {
          "base_uri": "https://localhost:8080/"
        },
        "outputId": "b5ea7a05-7c59-4686-f1ee-0291245e2e12"
      },
      "execution_count": 12,
      "outputs": [
        {
          "output_type": "execute_result",
          "data": {
            "text/plain": [
              "['Guilherme', 32, 'Professor']"
            ]
          },
          "metadata": {},
          "execution_count": 12
        }
      ]
    },
    {
      "cell_type": "code",
      "source": [
        "lista1[1:4]"
      ],
      "metadata": {
        "id": "WFA5xbxHk2wD",
        "colab": {
          "base_uri": "https://localhost:8080/"
        },
        "outputId": "0ac06169-cfdb-4fbc-ac89-6633fd0f12c7"
      },
      "execution_count": 13,
      "outputs": [
        {
          "output_type": "execute_result",
          "data": {
            "text/plain": [
              "[32, 'Professor', 'SENAI']"
            ]
          },
          "metadata": {},
          "execution_count": 13
        }
      ]
    },
    {
      "cell_type": "markdown",
      "source": [
        "Operações simples"
      ],
      "metadata": {
        "id": "eKe0UcwX3oln"
      }
    },
    {
      "cell_type": "code",
      "source": [
        "lista2 = [2, 3, 4, 5, 6, 7, 9]"
      ],
      "metadata": {
        "id": "1uVNEtyxk3SM"
      },
      "execution_count": 14,
      "outputs": []
    },
    {
      "cell_type": "code",
      "source": [
        "max(lista2[:6]) - min(lista2)"
      ],
      "metadata": {
        "id": "FP69TJJvk3kl",
        "colab": {
          "base_uri": "https://localhost:8080/"
        },
        "outputId": "f47052e0-ad20-4700-b7bf-ac1b0538772f"
      },
      "execution_count": 15,
      "outputs": [
        {
          "output_type": "execute_result",
          "data": {
            "text/plain": [
              "5"
            ]
          },
          "metadata": {},
          "execution_count": 15
        }
      ]
    },
    {
      "cell_type": "code",
      "source": [
        "import statistics as s\n",
        "s.mean(lista2)"
      ],
      "metadata": {
        "id": "ypIOQkIQlypO",
        "colab": {
          "base_uri": "https://localhost:8080/"
        },
        "outputId": "f8f638db-9b09-4b1e-e0b5-74d6b404804f"
      },
      "execution_count": 16,
      "outputs": [
        {
          "output_type": "execute_result",
          "data": {
            "text/plain": [
              "5.142857142857143"
            ]
          },
          "metadata": {},
          "execution_count": 16
        }
      ]
    },
    {
      "cell_type": "code",
      "source": [
        "4var1 = float(input('var1: '))\n",
        "var2 = float(input('var2: '))\n",
        "var3 = float(input('var3: '))\n",
        "\n",
        "9\n",
        "lista3 = [var1, var2, var3]"
      ],
      "metadata": {
        "id": "nscy_TpwmHqR",
        "colab": {
          "base_uri": "https://localhost:8080/"
        },
        "outputId": "9890a7f2-acbd-46dc-a7f4-c1f666fb9a16"
      },
      "execution_count": 17,
      "outputs": [
        {
          "name": "stdout",
          "output_type": "stream",
          "text": [
            "var1: 5\n",
            "var2: 4\n",
            "var3: 7\n"
          ]
        }
      ]
    },
    {
      "cell_type": "code",
      "source": [
        "s.mean(lista3)"
      ],
      "metadata": {
        "id": "RzDa4Rm_mmGZ",
        "colab": {
          "base_uri": "https://localhost:8080/"
        },
        "outputId": "1a4b689f-1b0f-4c1d-b035-61b1082f170a"
      },
      "execution_count": 18,
      "outputs": [
        {
          "output_type": "execute_result",
          "data": {
            "text/plain": [
              "5.333333333333333"
            ]
          },
          "metadata": {},
          "execution_count": 18
        }
      ]
    },
    {
      "cell_type": "code",
      "source": [
        "max(lista3)"
      ],
      "metadata": {
        "id": "mCmiuLCEmycU",
        "colab": {
          "base_uri": "https://localhost:8080/"
        },
        "outputId": "ccb3f579-1d90-4253-e2af-924bc2b9e402"
      },
      "execution_count": 19,
      "outputs": [
        {
          "output_type": "execute_result",
          "data": {
            "text/plain": [
              "7.0"
            ]
          },
          "metadata": {},
          "execution_count": 19
        }
      ]
    },
    {
      "cell_type": "markdown",
      "source": [
        "Fatiamento"
      ],
      "metadata": {
        "id": "cNrLsNPr5DNk"
      }
    },
    {
      "cell_type": "code",
      "source": [
        "lista = [0, 1, 2, 3, 4, 5, 6, 7, 8]"
      ],
      "metadata": {
        "id": "cxS7luaj4SfI"
      },
      "execution_count": 20,
      "outputs": []
    },
    {
      "cell_type": "code",
      "source": [
        "sublista = lista[2:5]\n",
        "sublista"
      ],
      "metadata": {
        "id": "Oe6yPi_q4fKd",
        "colab": {
          "base_uri": "https://localhost:8080/"
        },
        "outputId": "ab444664-7de3-4993-f6dc-7057b406edb7"
      },
      "execution_count": 21,
      "outputs": [
        {
          "output_type": "execute_result",
          "data": {
            "text/plain": [
              "[2, 3, 4]"
            ]
          },
          "metadata": {},
          "execution_count": 21
        }
      ]
    },
    {
      "cell_type": "code",
      "source": [
        "sublista_passos = lista[::2]  # Retorna [0, 2, 4]\n",
        "sublista_passos"
      ],
      "metadata": {
        "id": "DD23J9I84Z8M",
        "colab": {
          "base_uri": "https://localhost:8080/"
        },
        "outputId": "641795a1-87b9-4e94-9dba-abf1b83ccae7"
      },
      "execution_count": 22,
      "outputs": [
        {
          "output_type": "execute_result",
          "data": {
            "text/plain": [
              "[0, 2, 4, 6, 8]"
            ]
          },
          "metadata": {},
          "execution_count": 22
        }
      ]
    },
    {
      "cell_type": "markdown",
      "source": [
        "###Comando len()"
      ],
      "metadata": {
        "id": "1tqjihEAM6J9"
      }
    },
    {
      "cell_type": "code",
      "source": [
        "lista4 = [1,2,3,4,5,6,7,8]\n",
        "len(lista4)"
      ],
      "metadata": {
        "id": "py5c_pdZPD_e",
        "colab": {
          "base_uri": "https://localhost:8080/"
        },
        "outputId": "a8580f14-0971-42de-c109-36efba77a819"
      },
      "execution_count": 23,
      "outputs": [
        {
          "output_type": "execute_result",
          "data": {
            "text/plain": [
              "8"
            ]
          },
          "metadata": {},
          "execution_count": 23
        }
      ]
    },
    {
      "cell_type": "markdown",
      "source": [
        "###Comando append()"
      ],
      "metadata": {
        "id": "dMc8o1TTNKxK"
      }
    },
    {
      "cell_type": "code",
      "source": [
        "lista4.append(9)"
      ],
      "metadata": {
        "id": "k4z1pcQrPdTf"
      },
      "execution_count": 24,
      "outputs": []
    },
    {
      "cell_type": "code",
      "source": [
        "lista4"
      ],
      "metadata": {
        "id": "YrjdfK6OPu1s",
        "colab": {
          "base_uri": "https://localhost:8080/"
        },
        "outputId": "ec245980-0d14-45b5-c178-12435ba5dfa6"
      },
      "execution_count": 25,
      "outputs": [
        {
          "output_type": "execute_result",
          "data": {
            "text/plain": [
              "[1, 2, 3, 4, 5, 6, 7, 8, 9]"
            ]
          },
          "metadata": {},
          "execution_count": 25
        }
      ]
    },
    {
      "cell_type": "code",
      "source": [
        "lista4.append(2)"
      ],
      "metadata": {
        "id": "o6uDcShEPyho"
      },
      "execution_count": 26,
      "outputs": []
    },
    {
      "cell_type": "code",
      "source": [
        "lista4"
      ],
      "metadata": {
        "id": "3S7_GGKcP6N9",
        "colab": {
          "base_uri": "https://localhost:8080/"
        },
        "outputId": "2ba99744-2ca2-42aa-f76f-998c6c33d518"
      },
      "execution_count": 27,
      "outputs": [
        {
          "output_type": "execute_result",
          "data": {
            "text/plain": [
              "[1, 2, 3, 4, 5, 6, 7, 8, 9, 2]"
            ]
          },
          "metadata": {},
          "execution_count": 27
        }
      ]
    },
    {
      "cell_type": "markdown",
      "source": [
        "###Insert()"
      ],
      "metadata": {
        "id": "1z0zBDbrRhvc"
      }
    },
    {
      "cell_type": "code",
      "source": [
        "lista4.insert(5, 15)"
      ],
      "metadata": {
        "id": "hp8o1Mz4Rkge"
      },
      "execution_count": 28,
      "outputs": []
    },
    {
      "cell_type": "code",
      "source": [
        "lista4"
      ],
      "metadata": {
        "id": "DGqvfttBRrcH",
        "colab": {
          "base_uri": "https://localhost:8080/"
        },
        "outputId": "cdba9c0e-cc71-413a-a5b4-f9ddedc18a40"
      },
      "execution_count": 29,
      "outputs": [
        {
          "output_type": "execute_result",
          "data": {
            "text/plain": [
              "[1, 2, 3, 4, 5, 15, 6, 7, 8, 9, 2]"
            ]
          },
          "metadata": {},
          "execution_count": 29
        }
      ]
    },
    {
      "cell_type": "markdown",
      "source": [
        "###Comando remove()"
      ],
      "metadata": {
        "id": "XOWYnyUYNthN"
      }
    },
    {
      "cell_type": "code",
      "source": [
        "lista4.remove(2)"
      ],
      "metadata": {
        "id": "yamUHb4NQHLq"
      },
      "execution_count": 30,
      "outputs": []
    },
    {
      "cell_type": "code",
      "source": [
        "lista4"
      ],
      "metadata": {
        "id": "F722oB7_QOGy",
        "colab": {
          "base_uri": "https://localhost:8080/"
        },
        "outputId": "ce54ec18-359a-4fbc-86d0-e18578357f4f"
      },
      "execution_count": 31,
      "outputs": [
        {
          "output_type": "execute_result",
          "data": {
            "text/plain": [
              "[1, 3, 4, 5, 15, 6, 7, 8, 9, 2]"
            ]
          },
          "metadata": {},
          "execution_count": 31
        }
      ]
    },
    {
      "cell_type": "markdown",
      "source": [
        "### Comando pop()"
      ],
      "metadata": {
        "id": "kIDE5akGRb_3"
      }
    },
    {
      "cell_type": "code",
      "source": [
        "lista4.pop(0)"
      ],
      "metadata": {
        "id": "YziCFVoOQxSz",
        "colab": {
          "base_uri": "https://localhost:8080/"
        },
        "outputId": "6f64e707-35e2-4b1c-8e25-e49ffc38fc03"
      },
      "execution_count": 32,
      "outputs": [
        {
          "output_type": "execute_result",
          "data": {
            "text/plain": [
              "1"
            ]
          },
          "metadata": {},
          "execution_count": 32
        }
      ]
    },
    {
      "cell_type": "code",
      "source": [
        "lista4.pop(1)"
      ],
      "metadata": {
        "id": "FAADL50-RJKq",
        "colab": {
          "base_uri": "https://localhost:8080/"
        },
        "outputId": "c75017a4-3361-45c2-d87b-f04835a6e191"
      },
      "execution_count": 33,
      "outputs": [
        {
          "output_type": "execute_result",
          "data": {
            "text/plain": [
              "4"
            ]
          },
          "metadata": {},
          "execution_count": 33
        }
      ]
    },
    {
      "cell_type": "code",
      "source": [
        "lista4"
      ],
      "metadata": {
        "id": "wNdE3OmpRPxy",
        "colab": {
          "base_uri": "https://localhost:8080/"
        },
        "outputId": "e58b6cca-653e-4e21-be53-5d2bfa3b9e25"
      },
      "execution_count": 34,
      "outputs": [
        {
          "output_type": "execute_result",
          "data": {
            "text/plain": [
              "[3, 5, 15, 6, 7, 8, 9, 2]"
            ]
          },
          "metadata": {},
          "execution_count": 34
        }
      ]
    },
    {
      "cell_type": "code",
      "source": [
        "lista4"
      ],
      "metadata": {
        "id": "XJnJaKQtRYds",
        "colab": {
          "base_uri": "https://localhost:8080/"
        },
        "outputId": "4cd1c0d9-376c-48c2-db24-36843e000651"
      },
      "execution_count": 35,
      "outputs": [
        {
          "output_type": "execute_result",
          "data": {
            "text/plain": [
              "[3, 5, 15, 6, 7, 8, 9, 2]"
            ]
          },
          "metadata": {},
          "execution_count": 35
        }
      ]
    },
    {
      "cell_type": "markdown",
      "source": [
        "###IN"
      ],
      "metadata": {
        "id": "zYLd6_3ISsoH"
      }
    },
    {
      "cell_type": "code",
      "source": [
        "15 in lista4"
      ],
      "metadata": {
        "id": "RNs3N-nbphhp",
        "colab": {
          "base_uri": "https://localhost:8080/"
        },
        "outputId": "8d20d685-2fa9-47c6-84b8-84a010014ec2"
      },
      "execution_count": 36,
      "outputs": [
        {
          "output_type": "execute_result",
          "data": {
            "text/plain": [
              "True"
            ]
          },
          "metadata": {},
          "execution_count": 36
        }
      ]
    },
    {
      "cell_type": "code",
      "source": [
        "if 15 in lista4:\n",
        "  lista4.remove(15)\n"
      ],
      "metadata": {
        "id": "z2W5HS4QrKqr"
      },
      "execution_count": 37,
      "outputs": []
    },
    {
      "cell_type": "code",
      "source": [
        "15 in lista4"
      ],
      "metadata": {
        "id": "uL46Mf4Upheh",
        "colab": {
          "base_uri": "https://localhost:8080/"
        },
        "outputId": "472159de-c7de-407d-efab-d4ec836f495f"
      },
      "execution_count": 38,
      "outputs": [
        {
          "output_type": "execute_result",
          "data": {
            "text/plain": [
              "False"
            ]
          },
          "metadata": {},
          "execution_count": 38
        }
      ]
    },
    {
      "cell_type": "markdown",
      "source": [
        "###index()"
      ],
      "metadata": {
        "id": "BOfak23U5yVv"
      }
    },
    {
      "cell_type": "code",
      "source": [
        "lista = ['maçã', 'banana', 'cereja']\n",
        "item = 'banana'\n",
        "posicao = lista.index(item)\n",
        "print(f'O item \"{item}\" está na posição {posicao}.')\n"
      ],
      "metadata": {
        "id": "Ww-rob5151eo",
        "colab": {
          "base_uri": "https://localhost:8080/"
        },
        "outputId": "10ae80f7-9002-4119-d62a-3de6431eed60"
      },
      "execution_count": 39,
      "outputs": [
        {
          "output_type": "stream",
          "name": "stdout",
          "text": [
            "O item \"banana\" está na posição 1.\n"
          ]
        }
      ]
    },
    {
      "cell_type": "markdown",
      "source": [
        "###Comando for aplicado em lista"
      ],
      "metadata": {
        "id": "fwkn-FrvNZen"
      }
    },
    {
      "cell_type": "code",
      "source": [
        "idades = [18, 36, 42, 51, 65]"
      ],
      "metadata": {
        "id": "ujnx4pdOsCg9"
      },
      "execution_count": 40,
      "outputs": []
    },
    {
      "cell_type": "code",
      "source": [
        "print('Essas são as idades da lista')\n",
        "for x in idades:\n",
        "  print(f'Idade numero {idades.index(x)+1} - {x}')"
      ],
      "metadata": {
        "id": "4aPtR1QmsCet",
        "colab": {
          "base_uri": "https://localhost:8080/"
        },
        "outputId": "9027fd82-7e44-43f3-bc00-d9112627eafb"
      },
      "execution_count": 42,
      "outputs": [
        {
          "output_type": "stream",
          "name": "stdout",
          "text": [
            "Essas são as idades da lista\n",
            "Idade numero 1 - 18\n",
            "Idade numero 2 - 36\n",
            "Idade numero 3 - 42\n",
            "Idade numero 4 - 51\n",
            "Idade numero 5 - 65\n"
          ]
        }
      ]
    },
    {
      "cell_type": "code",
      "source": [
        "idades_dobradas = []\n",
        "for idade in idades:\n",
        "  idade = idade * 2\n",
        "  idades_dobradas.append(idade)\n",
        "print(idades_dobradas)"
      ],
      "metadata": {
        "id": "4dLznxA6uf-A",
        "colab": {
          "base_uri": "https://localhost:8080/"
        },
        "outputId": "ff14a683-5f89-4d05-d4b9-472159aea31d"
      },
      "execution_count": 43,
      "outputs": [
        {
          "output_type": "stream",
          "name": "stdout",
          "text": [
            "[36, 72, 84, 102, 130]\n"
          ]
        }
      ]
    },
    {
      "cell_type": "code",
      "source": [
        "idades_dobradas = [(idade * 2) for idade in idades]\n",
        "idades_dobradas"
      ],
      "metadata": {
        "id": "YsBkkjKj0StA",
        "colab": {
          "base_uri": "https://localhost:8080/"
        },
        "outputId": "0b2d40f0-d247-450e-c06d-bebec143fd09"
      },
      "execution_count": 44,
      "outputs": [
        {
          "output_type": "execute_result",
          "data": {
            "text/plain": [
              "[36, 72, 84, 102, 130]"
            ]
          },
          "metadata": {},
          "execution_count": 44
        }
      ]
    },
    {
      "cell_type": "code",
      "source": [
        "[(idade) for idade in idades if idade > 40]"
      ],
      "metadata": {
        "id": "ZaaFNr8K0sJw",
        "colab": {
          "base_uri": "https://localhost:8080/"
        },
        "outputId": "f809d6e3-ca2e-4f5b-b826-aee5e09fe9bd"
      },
      "execution_count": 45,
      "outputs": [
        {
          "output_type": "execute_result",
          "data": {
            "text/plain": [
              "[42, 51, 65]"
            ]
          },
          "metadata": {},
          "execution_count": 45
        }
      ]
    },
    {
      "cell_type": "markdown",
      "source": [
        "###Exemplo"
      ],
      "metadata": {
        "id": "7Gc4JITt1Dw1"
      }
    },
    {
      "cell_type": "code",
      "source": [
        "# Inicializando a lista de tarefas vazia\n",
        "tarefas = []\n",
        "\n",
        "# Adicionando tarefas à lista\n",
        "tarefas.append(\"Comprar pão\")\n",
        "tarefas.append(\"Ir para aula de python\")\n",
        "tarefas.append(\"Ler um livro\")\n",
        "\n",
        "# Imprimindo a lista de tarefas\n",
        "print(\"Lista de Tarefas Inicial:\")\n",
        "for tarefa in tarefas:\n",
        "    print(tarefa)\n",
        "\n",
        "# Modificando uma tarefa\n",
        "tarefas[1] = \"Estudar para a prova de Python\"\n",
        "\n",
        "# Adicionando mais uma tarefa\n",
        "tarefas.append(\"Fazer exercícios físicos\")\n",
        "\n",
        "# Removendo uma tarefa\n",
        "tarefas.remove(\"Comprar pão\")\n",
        "\n",
        "# Imprimindo a lista de tarefas atualizada\n",
        "print(\"\\nLista de Tarefas Atualizada:\")\n",
        "for tarefa in tarefas:\n",
        "    print(tarefa)\n",
        "\n",
        "# Exibindo o tamanho da lista de tarefas\n",
        "print(f\"\\nNúmero total de tarefas: {len(tarefas)}\")\n"
      ],
      "metadata": {
        "id": "JqtBEJOp2c1u",
        "colab": {
          "base_uri": "https://localhost:8080/"
        },
        "outputId": "81a28add-086c-4d66-c770-23ddada2f2b9"
      },
      "execution_count": 46,
      "outputs": [
        {
          "output_type": "stream",
          "name": "stdout",
          "text": [
            "Lista de Tarefas Inicial:\n",
            "Comprar pão\n",
            "Ir para aula de python\n",
            "Ler um livro\n",
            "\n",
            "Lista de Tarefas Atualizada:\n",
            "Estudar para a prova de Python\n",
            "Ler um livro\n",
            "Fazer exercícios físicos\n",
            "\n",
            "Número total de tarefas: 3\n"
          ]
        }
      ]
    },
    {
      "cell_type": "code",
      "source": [
        "# Inicializando a lista de carros\n",
        "carros = []\n",
        "\n",
        "# Solicitando ao usuário quantos modelos de carros ele deseja inserir\n",
        "numero_de_carros = int(input(\"Quantos modelos de carros você deseja inserir? \"))\n",
        "\n",
        "# Laço for para inserir os nomes dos carros na lista\n",
        "for i in range(numero_de_carros):\n",
        "    modelo = input(f\"Digite o nome do modelo de carro {i + 1}: \")\n",
        "    carros.append(modelo)\n",
        "\n",
        "# Imprimindo a lista de carros inseridos\n",
        "print(\"\\nLista de modelos de carros inseridos:\")\n",
        "for carro in carros:\n",
        "    print(carro)\n"
      ],
      "metadata": {
        "id": "IlitDHE3R4IZ",
        "colab": {
          "base_uri": "https://localhost:8080/"
        },
        "outputId": "abd08f57-7963-4129-e940-c09a0bc2e4a9"
      },
      "execution_count": 47,
      "outputs": [
        {
          "output_type": "stream",
          "name": "stdout",
          "text": [
            "Quantos modelos de carros você deseja inserir? 1\n",
            "Digite o nome do modelo de carro 1: uno\n",
            "\n",
            "Lista de modelos de carros inseridos:\n",
            "uno\n"
          ]
        }
      ]
    },
    {
      "cell_type": "code",
      "source": [
        "# Inicializando as listas vazias\n",
        "clientes = []\n",
        "pontos = []\n",
        "\n",
        "# Solicitando ao usuário para inserir os nomes dos clientes e suas quantidades de pontos\n",
        "for i in range(2):\n",
        "    cliente = input(f\"Digite o nome do cliente {i + 1}: \")\n",
        "    quantidade_pontos = int(input(f\"Digite a quantidade de pontos de {cliente}: \"))\n",
        "    clientes.append(cliente)\n",
        "    pontos.append(quantidade_pontos)\n",
        "\n",
        "# Imprimindo a lista de clientes com suas quantidades de pontos\n",
        "print(\"\\nLista de clientes e suas quantidades de pontos:\")\n",
        "for i in range(2):\n",
        "    print(f\"Cliente: {clientes[i]}, Pontos: {pontos[i]}\")\n"
      ],
      "metadata": {
        "id": "yzh-EjfPteDp",
        "colab": {
          "base_uri": "https://localhost:8080/"
        },
        "outputId": "b609e008-2513-4c75-e6c7-55bb5148c09a"
      },
      "execution_count": 48,
      "outputs": [
        {
          "output_type": "stream",
          "name": "stdout",
          "text": [
            "Digite o nome do cliente 1: Luiz\n",
            "Digite a quantidade de pontos de Luiz: 0\n",
            "Digite o nome do cliente 2: Lucas\n",
            "Digite a quantidade de pontos de Lucas: 10\n",
            "\n",
            "Lista de clientes e suas quantidades de pontos:\n",
            "Cliente: Luiz, Pontos: 0\n",
            "Cliente: Lucas, Pontos: 10\n"
          ]
        }
      ]
    },
    {
      "cell_type": "markdown",
      "source": [
        "### Resumo"
      ],
      "metadata": {
        "id": "c3GnUhPt5WMb"
      }
    },
    {
      "cell_type": "markdown",
      "source": [
        "Criação e Modificação de Lista:"
      ],
      "metadata": {
        "id": "nPfd6JOT5bx9"
      }
    },
    {
      "cell_type": "code",
      "source": [
        "lista = [1, 2, 3, 4]\n",
        "lista[2] = 5  # Modifica o terceiro elemento para 5\n"
      ],
      "metadata": {
        "id": "OpafRjBp5Xzb"
      },
      "execution_count": 49,
      "outputs": []
    },
    {
      "cell_type": "markdown",
      "source": [
        "Adicionando e Removendo Elementos:"
      ],
      "metadata": {
        "id": "arXsQsR05dZb"
      }
    },
    {
      "cell_type": "code",
      "source": [
        "lista = [1, 2, 3]\n",
        "lista.append(4)  # Adiciona 4 ao final\n",
        "lista.insert(1, 5)  # Insere 5 na posição 1\n",
        "lista.remove(2)  # Remove o primeiro 2\n",
        "elemento = lista.pop(1)  # Remove e retorna o elemento na posição 1"
      ],
      "metadata": {
        "id": "CtJhcM_B5gNI"
      },
      "execution_count": 50,
      "outputs": []
    },
    {
      "cell_type": "markdown",
      "source": [
        "Iteração e Verificação:"
      ],
      "metadata": {
        "id": "lGSBIpfG5kB5"
      }
    },
    {
      "cell_type": "code",
      "source": [
        "lista = [\"maçã\", \"banana\", \"laranja\"]\n",
        "for fruta in lista:\n",
        "    print(fruta)\n",
        "\n",
        "if \"banana\" in lista:\n",
        "    print(\"A lista contém banana\")"
      ],
      "metadata": {
        "id": "nLcIt5Jm5nAS",
        "colab": {
          "base_uri": "https://localhost:8080/"
        },
        "outputId": "4f435d18-1a60-499f-ef74-69ae207b179f"
      },
      "execution_count": 51,
      "outputs": [
        {
          "output_type": "stream",
          "name": "stdout",
          "text": [
            "maçã\n",
            "banana\n",
            "laranja\n",
            "A lista contém banana\n"
          ]
        }
      ]
    },
    {
      "cell_type": "markdown",
      "source": [
        "Fatiamento (Slices):"
      ],
      "metadata": {
        "id": "SQojrEGf5pZY"
      }
    },
    {
      "cell_type": "code",
      "source": [
        "lista = [0, 1, 2, 3, 4, 5]\n",
        "sublista = lista[2:5]  # Retorna [2, 3, 4]\n",
        "sublista_passos = lista[::2]  # Retorna [0, 2, 4]\n"
      ],
      "metadata": {
        "id": "R3y_ivHd5uHd"
      },
      "execution_count": 52,
      "outputs": []
    },
    {
      "cell_type": "markdown",
      "source": [
        "## Exercícios"
      ],
      "metadata": {
        "id": "xf6Ho2aA221e"
      }
    },
    {
      "cell_type": "markdown",
      "source": [
        "Exercício 1\n",
        "\n",
        "Crie um programa em Python que solicite ao usuário para inserir os nomes de três frutas e armazene esses nomes em uma lista. Em seguida, exiba a lista completa de frutas.\n",
        "\n",
        "![image.png](data:image/png;base64,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)"
      ],
      "metadata": {
        "id": "Oa1xVBy23Pcq"
      }
    },
    {
      "cell_type": "code",
      "source": [
        "frutas = []\n",
        "\n",
        "for i in range(3):\n",
        "  fruta = input(f'Digite o nome da fruta {i + 1}: ')\n",
        "  frutas.append(fruta)\n",
        "\n",
        "print('\\nLista de frutas:')\n",
        "for fruta in frutas:\n",
        "  print(fruta)"
      ],
      "metadata": {
        "colab": {
          "base_uri": "https://localhost:8080/"
        },
        "id": "4coB8lG0zqIe",
        "outputId": "e00b1fc6-cdcf-4768-a16e-4a71a9f666d3"
      },
      "execution_count": 54,
      "outputs": [
        {
          "output_type": "stream",
          "name": "stdout",
          "text": [
            "Digite o nome da fruta 1: Banana\n",
            "Digite o nome da fruta 2: Laranja\n",
            "Digite o nome da fruta 3: Maça\n",
            "\n",
            "Lista de frutas:\n",
            "Banana\n",
            "Laranja\n",
            "Maça\n"
          ]
        }
      ]
    },
    {
      "cell_type": "markdown",
      "source": [
        "Exercício 2\n",
        "\n",
        "Crie um programa em Python que solicite ao usuário para inserir os nomes de três países e armazene esses nomes em uma lista. Em seguida, peça ao usuário para inserir o nome de um país adicional e a posição em que ele deseja inserir este país na lista. Por fim, exiba a lista completa de países.\n",
        "\n",
        "![image.png](data:image/png;base64,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)"
      ],
      "metadata": {
        "id": "bZlN4Trs3vVm"
      }
    },
    {
      "cell_type": "code",
      "source": [
        "import statistics as s\n",
        "paises = []\n",
        "\n",
        "for i in range(3):\n",
        "  pais = input(f'Digite o nome do país {i + 1}: ')\n",
        "  paises.append(pais)\n",
        "novo_pais = input('Digite o nome de um novo país: ')\n",
        "posicao = int(input('Digite a posição para inserir o novo país: '))\n",
        "\n",
        "paises.insert(posicao - 1, novo_pais)\n",
        "\n",
        "print('Lista completa de países: ')\n",
        "for pais in paises:\n",
        "  print(pais)\n"
      ],
      "metadata": {
        "colab": {
          "base_uri": "https://localhost:8080/"
        },
        "id": "rRxLZdjK1HWu",
        "outputId": "8cb1c99c-8a9e-4dcd-a08b-0d0a3edd1d41"
      },
      "execution_count": 57,
      "outputs": [
        {
          "output_type": "stream",
          "name": "stdout",
          "text": [
            "Digite o nome do país 1: Brasil\n",
            "Digite o nome do país 2: Chile\n",
            "Digite o nome do país 3: Cuba\n",
            "Digite o nome de um novo país: Uruguai\n",
            "Digite a posição para inserir o novo país: 4\n",
            "Lista completa de países: \n",
            "Brasil\n",
            "Chile\n",
            "Cuba\n",
            "Uruguai\n"
          ]
        }
      ]
    },
    {
      "cell_type": "markdown",
      "source": [
        "Exercício 3\n",
        "\n",
        "Crie um programa em Python que solicite ao usuário para inserir os nomes de cinco frutas e armazene esses nomes em uma lista. Em seguida, peça ao usuário para inserir o nome de uma fruta que ele deseja remover da lista. Por fim, remova a fruta especificada da lista e exiba a lista atualizada.\n",
        "\n",
        "![image.png](data:image/png;base64,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)"
      ],
      "metadata": {
        "id": "34NaHwze7jZK"
      }
    },
    {
      "cell_type": "code",
      "source": [
        "frutas = []\n",
        "\n",
        "for i in range(5):\n",
        "  fruta = input(f'Digite o nome da fruta {i+1}: ')\n",
        "  frutas.append(fruta)\n",
        "\n",
        "remove_frutas = input('Digite o nome da fruta que deseja remover: ')\n",
        "\n",
        "if remove_frutas in frutas:\n",
        "  frutas.remove(remove_frutas)\n",
        "else:\n",
        "  print(f'A fruta '{remove_frutas}' não está na lista.')\n",
        "\n",
        "print('Lista de frutas atualizada:', frutas)"
      ],
      "metadata": {
        "colab": {
          "base_uri": "https://localhost:8080/"
        },
        "id": "rhjncCTP9eAy",
        "outputId": "dc90bbd4-f48d-4874-97d7-38387b352316"
      },
      "execution_count": 60,
      "outputs": [
        {
          "output_type": "stream",
          "name": "stdout",
          "text": [
            "Digite o nome da fruta 1: Banana\n",
            "Digite o nome da fruta 2: Manga\n",
            "Digite o nome da fruta 3: Maça\n",
            "Digite o nome da fruta 4: Laranja\n",
            "Digite o nome da fruta 5: Abacate\n",
            "Digite o nome da fruta que deseja remover: Manga\n",
            "Lista de frutas atualizada: ['Banana', 'Maça', 'Laranja', 'Abacate']\n"
          ]
        }
      ]
    },
    {
      "cell_type": "markdown",
      "source": [
        "Exercício 4\n",
        "\n",
        "Crie um programa em Python que simule o controle de estoque de uma loja. O programa deve permitir que o usuário insira os nomes de três produtos e suas respectivas quantidades em estoque. Em seguida, o programa deve solicitar ao usuário para remover uma quantidade de um produto especificado e, por fim, exibir a lista atualizada de produtos com suas quantidades.\n",
        "\n",
        "Requisitos:\n",
        "- Inicialize duas listas: uma para armazenar os nomes dos produtos e outra para armazenar as quantidades em estoque.\n",
        "- Atualize a quantidade do produto especificado pelo usuário.\n",
        "- Imprima a lista atualizada de produtos com suas quantidades.\n",
        "\n",
        "![image.png](data:image/png;base64,iVBORw0KGgoAAAANSUhEUgAAAZIAAADdCAYAAACR+/T3AAAAAXNSR0IArs4c6QAAAARnQU1BAACxjwv8YQUAAAAJcEhZcwAADsMAAA7DAcdvqGQAACo2SURBVHhe7Z1NaxzH1sfrPt9B4EUCsRnyAYTBELKYQBYia6H1tZG9CF7bQnsrstYmC19jsrWiddAiEC0uAWFHHyAM4oIDMdGH0FOv3XWqqquruqpbM6P/D8rWzPTUy6nqrq46Pef/r2sOAwAAAAbyf/p/AAAAYBCYSAAAABSBiQQAAEARmEgAAAAUgYkEAABAEZhIAAAAFIGJBAAAQBGYSAAAABRRZSK5OLzH7t27xw4+6DcGcHXySObx6ORKvwNuAtkPj47ZuvTCurUHgGUkPJF8OmaP+EVdXNjb9Igdf9Kf3wC4IIDpuGLHj6a6qblgB/L8OuB/jcVU7alXTo2bUzAdkRXJnB3+fskuL1U6P2Js76twx27uqWP27+s3BrCx/Vbm8XZ7Q78DwHqjLpanbHY01+8A9uFATiCns0N+BQKrQvLWlrjQnzxh7M2PWBUAUAy/YG6zE37ztM++0W8BvjrbYexE3JR+rd8CK0GWj2Tz213Gzk7Zb3qLy/g1oltf+g7DTc3y1/ncXfGYJe6DZ2e87D32oOtYdztuyDaYt6WXu53XLu1NvYN1iZYjtjr46w/mGOdvqz7U/gO3FJy6SDs7kLaIdJi3CdNsS5K+pm2RZYh8SX2c7Z6U/om2R20jUTup99RYMttMD9ieGG7PHjT5eHXxxnXm1tT9fXa5t6lf9GDKyrR7TntSxpI3DppxXaucTbbPJ9ZEq4BlQkT/9fj73fXDuw+v3/2tXxvk+3evX7zXrw3Jx/9x/YK/fvjzP/q1jfrMy1vzz88Pr+8+fHcd+maoXn/8cLf7+BCBPGSZoXZ18s/1u4e8XNJGp8295ajj7959wf8y+YnP1N8mH/UdcYwhZtsOuupi2c23o67fD23Jfai6mjYp3Hzla3KMbrspJ6V/etsTspF6z/6OKbvTlu9f0HI5qv52f6Tj96WDLM+yRTbx9vjl+3aiduyivJyGQF+C5aXKU1ud/LVgZ2yXbTW+k0229YTfsSw+6td1uPhpj509OSE+ms1/H7K5tXrqQ+YxP2SPrTw2tl+yw/kZO/1v5p0+r0vr6/mczazN3tRy5kePmzuz+dFLtnNHv5BcsP/wO+3dY/vubZM9Ppqzs19+S16JhexG4Hf3r14ztvv9Dms9V/yu8ZivTF+fkjvNfnbZiXW3Ge4f+5gN9s133HB/LmR7UuzW254q8FXnj294Hz8lfbK5d8Jr/4adjuEcFqsX4atMXcFkkTGWMs4nnzpjFiwneROJnBjmbPaZft3HZzN+tH1yXbBTfmGazz7Xryvyepssme99xS8q+qNkvpxZF8yW2hNfrXLe7Fjt5Sm0LdXNFVv8mdIXXf29YIvBFxXDGVv8pf8UzGd82m2RD2C8tSaxqN1S21OHrnIW/1vNS2LfWBJ9YR64UccEthUTKBuzYFnJmkgufuV3YvMt9g25O+6nHTzbbHF0Ps6TWfxO1Dxh1qa3zp38MG764tTF7rHbXp7sC2+UDTb7smSSnLFZsW0zbkoiKLuVtqcOsy9GGNsTkDKWzJOVIqlJJX8yKRuzYFlJnkiEo2379ZwdHqR3utlqsAfN0Elk44sZv0qEl9byIQC+Iil55jyUx9XJc7Z3tsueVpz46pSjtgjf7GQ6eB0+F3tu1haVcISSO8Q737Ct+Rnb27cfFrhgBztvyNZbPlfseF+MDbo9FCPFbr3t0duM7WQjnMTbfM3soiel4JaL2nI7e/bceViA5+NsvVVjsLPdEGvPsLG08fVW4PHc+uWAFUH7Sija0aWcnzp5jjbtDHWP46l1nmnHrJuCTlYnBRyL7rHEEWccknbqdQ46eHnkOk8dB7Ek4ICMlmM7IO3v+vmEbEfKSYDkIeot6kbs5vdzbhnKyRrPQ9ajr78S+qe3Pc7YfvFetc936rpjl5bltSl3rIXOMZ28uph2D3a2C+Lt6RtLoc/DjvCScvyx1qSitoOxGVGzXTwK+4DtfclXJMRJqO4CR9viAkuHWhnMiLMdALA+jPvUVogPp3IrYVX3kgEAAFBGnEg22M7BIZu7T1PtLGTolXEf0QQAADAVI25tAQAAuA1Mv7UFAABgrcBEAgAAoAhMJAAAAIrARAIAAKAITCQAAACKqDKRGJ2CkhAlRqdgkKYGKMNoeCRpuNSRU5X9PUQzBqwOMrQLQqLcBsITiScgJNKwaJ+1wIVnCHUu+mAs0D/DmMpu9cqpcbMdx4iLmTTtBB5ZkUCz/dZwZ4e9Ff2MKKwA1EUH3BxXg15MeCrslLlenzx5w7YnvPFO3tqCZjsAAOQgImVPoUG/wXbe0ptwVxZ9bLJ8JG7ljF9DpY6tL0/bWqVmueh87q54zJJQhgMfW7PdWx4O286jdlGJttfJN7SX7G0v2p+3S26io9202bSjT0PbaW9HmHLaHpUnJcFuTntCgkakLTwN2gaIjAPZDt7Gphzn7ywSxpvbnvz+4Xjnj79l4ZXDU2O7xPHmjtlh2znOONjxA/SXlZNut5RyavRPvJwMDXozngLjaCUQIVI8ZIjrgFZ5l45y8vF2iHQX9Vk4NLUO290VqjtQr6Sw5AQRwjoU8toPVR7D16V2wr/LkOCOreR79ne4LUjddXjt5r023HZry5BtnbIjyLYGQnX3tke+7rFboH/c/vT6q2usxegZByb0u6y7HZrds38PCeMtOl4bevonMFZc23p245+Q8yhhvPl9HDtPuwh8Z5RyBHG7pZRTo3+y2tM3nvXn/XVKwx8X41Llqa1OVkizXS0P6d2DXIFlEdKlHgK/kyH+Cq1f7sLb3C5nqTZ8HVLa02+3NG14RzTtzg57KrZSf3Xvv7tJGwe2gNguOxmgg5483oq2Fviqs08bPmS3bOpoqV+dvJLCXi87fZxTabZnlFPUP5XbU9FPKVZJ26/56P5+Op9n3kSy5prt7jI1tDSP8mnBFjn2ieAuu29E2zqxPXG7pWqpn1l64CqJkyGbCuMgiZ5yammcd9lNasPL87GG5LFQLrTawlPuePu44Md3aOrbTKXZfls16MW5KOogJI1LHn7KJWsiWWvN9g8HvAMYeVLt8jhzRXKHn9T81F78pV8PRN1R8Ltlqy3n/E5nclLa02u3VC11+pRgk3JXDKXjIJWEcmponHch9XzkjRqf7CvkWaqlLmWO/1z03olPpdl+GzXob2oSESRPJOIOeZ01230upDZ5Hmp7qX2yTTjFHee0PPmti7NwfPaV8+mYPR90pxPT0E5Bt6fZXgq0x8O32zBt+HzGGQc+Q8rJ1zhP0IbXE/3eT8aywknsaND3jrc6Wure+TlSOYo11KAvdLbf5CQi0b4SinH82Mlz3ChHFDlGp9bZpJxP3jFWXsp5GEgBx697LHFcScce/TzP2eS25+H1u/fCDrYzLQXaZqMJ7jn6mmN4/tLevtOOHCPa17RH15XYqMsxGMhLfxK0mXuM831hc9EPbTlpdiN9ZxzcpH/cfFTqdE52ERkHxDkqjwv8nUqkHEFoXIfbEukfDh0rPLljmpyrwqmu8rPL6h9v4foGncYRSDminiOVo4jbra+cWv0TLyc8pmVyr2+mH93+TcKto5UG5ZcPNNtHR9nh9Dto1IMpUOcXu6k7U3ArGfeprRDQbAcAgLVixIkEmu0AAHAbgGY7AACAIqbf2gIAALBWYCIBAABQBCYSAAAARWAiAQAAUESVicTEhSr5RbH4ZabIY1j4alAL2Q+rGso6wLq1B4BlJDyRmJ/rk1QvTtAQcEEA0yF+RDrBTY0II2KfY7maKMlM1J4q5YgfVFo2CeivgOUjsiKB1C4AoyFu1vRvqtQ5dsJ2X2/f8hW5mIhuVjIWDCN5a0tc6CG1C0AlpP6EHS1Ya/UMDrC5Dty8ZCwYRpaPxO1U49dQqWPry12+69TceTmfuyse43+R0WLHltr1tvRyt/PapT3RE3HrEi1HLO356w/mGOdvqz7U/gO3FJy6kKi8GlcbJXcLptmWJH1N2yLLEPmS+jjbGin9E22P2jahdlLvqbFktlX6JVb9cT3iFowpK3vrK709KWPJGwfNuK5bDlhBxC/bPWQkSkeeU6AjVHpRMpOPV1Eqw9E+/ailNjKyaFcky0C9ZFTOnMiXgTxUNNNAuzppo322bXTa3FuOieQpooya/MRn6m+Tj/qOHYk0ZtsOuupi2c23o65fIDpzF6qupk0KN982iqo5RrfdlJPSP73tCdlIvWd/x5TdaUsZ+ZeOC1V/Ghk2j0j/mUjDGTanxNuTMpbccRGmvByX7PMY3AhVntrqZIWkdmUeRudBs7H9kh3Oz9jpfzPvmnhd2uU5lcBNLWd+9Jhby/z90hFmqiPzGbIbgd/dv/IkOzfZvhCusvRF0hBCXW19w/1jH6PlhbVYUordettTBb7q7JPAzUb5Bt7wHFoZYIv7+8pnMEAWuJ/llaYVq5epJWPBMPImkjWX2u2SCq098dUqp0zmM1UCt6u/ayjzOeqL8xmfdlvkAxi22lzUbqntqUNUAjcLMYmILSE60U7NsknTiklEfHZjQk0gi6yJZK2ldiPc9MWpizKZz1QJ3C5qaIXX0bdXdittTx3y5BGWYxIRpIylqaRpMYmsHskTiXC0rbPUbiiPq5Pn8iQPbjcMpE45dWQ+h0ngXkgpXXvrLR9+Ad0XY4NuD8VIsVtve/Q2YzvZCCexI00rKZTATSJjEhnsbDesjjQtJpEVRftKKNppqZyfOnkOL+0MdY/jqXWeKWead0zQyeqkgGPRPZY4SHukT5Pw8sh1njoOYknAARktx3ZA2t/18wnZjpSTAMlD1FvUjdjN7+fcMpSTNZ5HklM1oX962+OMbSOFTJ3tAnfs0rK8NhWPtTZ59jXHDna2C+Lt6RtLoc99mwlKyum4XoiUa18wKZDaBaOj7jJnN759AwAYh3Gf2goBqV0AAFgrRpxIILULAAC3AUjtAgAAKGL6rS0AAABrBSYSAAAARWAiAQAAUAQmEgAAAEVgIgEAAFBElYnE6BSUhCgRP1oTeUCf4AYwGh5JGi7ih6bl/ST7e4hmDFgdZGiXsjA+YDUITySegJBIw6J91gIXniHUueiDsUD/DGMqu9Uox4h+mTTOxOqJjk08gUdWJNBsvzVI2Vfeh8mRgwEA/YiJaBoNenMNHrucLpK3tqDZDgAAOdycBr0qZ8GmElXI8pG4RjB+DZU6tr48bWuVmuWi87m74jFLNhkOfGzNdm8ZOmw7j9pFJdpeJ9/QXrK3vWh/3i65yZK2abNpR5+GttPejjDltD0qT0qC3Zz20PDuCnd5PsjnFhkHsh28jU05zt9ZJIw3tz35/cPxzh9/y8Irh6fGdonjzR2zw7ZznHGw4wfoLysn3W4p5dTonzp245jxFBhH+fDrg1Tx3JouSKoIkeIhQ20HtMoDmtiS5OPtEOku6rNwaGodtrsrlHSgXklhyQkinHgo5LUfqjyGr0vthH+XIcEdW8n37O9wW5C661DuzXttaHc3BDe1rVN2BNnWQJjy3vbI1z12C/SP259ef3WNtRg948CEfpd1t0Oze/bvIWG8RcdrQ0//BMaKa1vPbvwTch4ljDe/j2PnaReB74xSjiBut5RyavTPkPb4/aXRY6q/Tt2osaFTQT5DqPLUVicrpNmulqE0zLlcgWUR0qUewibbJ/4KrV/uwtvcLpupNnwdUtrTb7c0bXhHNO3ODnsqtlJ/de+/u0kbB7aA2C47GaCDnjzeirYwzF1lRBs+ZLds8rXUQ1ydvJLCXi87fZx1yukno5yi/slvj1i9dGrQV/BT2n6S8+9O2YOBOypDyJtI1lyz3V2mhpbmUT4t2KKSfKy77A5tBY1OYnvidkvVUj+z9MBVEiddNhXGQRI95dTSOO+ym9SGl+djDcljoVxotYWn3PH2ccGP79DUtyktJ5XbrkG/sf2SHc7P2Ol/603RMbImkrXWbP9wwDuakSfVLo8zVyR3+EnNT+3FX/r1QNSdi5Bgbetyzu90JielPb12S9VSp08JNil3xVA6DlJJKKeGxnkXUs9H3qjxyb5Cnila6jGkzPGfi96VRWk5qaSUU6N/UsqZehJRfGRibp9K9yl5IhF3yOus2e5zIbXJ81DbS+2TbcIp7jin5clvXZyF47OvnE/H7HnHnU6cmIZ2Cro9zfZSoD0evt2GacPnM8448BlSTr7GeYI2vJ7o934ylhVOYkeDvne8DdNsd/HOz5HKUayhBn1VZ7seJ8StMDLaV0Ixjh87ec4b5Ygix+jUOpuU88k7xsqLOIjsFHD8uscSR6x07NHP8xxObnseXr97L+xgO9NSoG02muCeo685hucv7e077cgxon1Ne3RdiY26HIOBvPQnQZu5xzjfFzYX/dCWk2Y30nfGwU36x81HJdLHKUTGAXGOyuMCf6cSKUcQGtfhtkT6h0PHCk/umCbnqnCqq/zssvrHW7i+MadxCFKOqOdI5Sjidusrp1b/xMtxv2ulrn50308icO4Erp9jAs320VF2OP0OGvVgCtT5xSbdRgG3nXGf2goBzXYAAFgrRpxIoNkOAAC3AWi2AwAAKGL6rS0AAABrBSYSAAAARWAiAQAAUAQmEgAAAEVUmUhMXKiSXxSLX4CKPAaHYQZVkP1Q6de1y8C6tQeAZSQ8kZif65M0XSTJELgggOkQPyId+6ZG/HDQOcdyNVGSmaI9grrlmBtU3FwuP5EVCaR2ARiPTbavzy2VTtju621cNA0fDmRsv7kfAAssIclbW+JCD6ldAMZiHK2e1UQF/tw9fsm29Dtgucnykciop1aET+PXUKlj60tEAW2OaVNz5+V87q54zPJWRosdW2rX29LL3c5rl/ZET8StS7QcseXBX38wxzh/W/Wh9h+4BeDUhUTl1ZC2iJS5BdNsS5K+pm2RZYh8SX2cyKop/RNtj9pOonZS76mxZLab+iVW/XFdGNWW1/uVED36NhA235SVvfWV3p6UseSNg2Zc1y7HinAMVgPxy3YPGYnSkecU6AiVXpTM5ONVNMxwtE8/aqmNjCzaFRkzUC8ZlTMnkmYgDxXNNNCuTtoonG4E0OZ1bzkmYqiIMmryE5+pv00+6jt2JNKYbTvoqotlN9+Oun4Z0UVVXU2bFG6+bRRVc4xuuyknpX962xOykXrP/o4pu9OWMvIvHReq/jQybD+mr1WKl2fZIpt4e1LGkjsuwpSXo/rQ2LanH8DSUOWprU5WSGpX5uHcBQ1WGeN1aX09VAI3tZz50WNuLfP3S0eYqY5sachuBHOXTKRBN9m+EK6y9EXSEEJdbX3D/WMfo+WFtVhSit1621MFvursk8BNxvaTnLOtX/idfGglfX9fHTNAFrifZZKm5bbd32PMG+9g2cmbSNZcardLKrT6vnWlcspkS1MlcLv6u4Yyn6O+OJ/xabdFPoBhq81F7ZbanjpEJXAHoYOcFl2sh7MM0rRXJ8/ZHovpvoNlJWsiWWup3Qg3fXHqoky2NFUCt4saWuF19O2V3UrbU4cieYSKGuy53Lw07RX77RfhYLH9oNTnUvI7NTAuyROJcLSts9RuKA95h3S2y55WnPjqlFNHtnSYBO6FfKLG3nrLR21hnDnbQzFS7NbbHr3N2E42wknsSNNKCiVwB6Hsyp5s+XYd7Gw3rII0LV+RvbUmF5nO2SEvZM5vPsVrSE8sMdpXQtFOS+MElMlztGlnqHscT61zjDoTmxR0sjop4Fh0jyUO0h7p0yS8PHKdp9ompO4Bh2G0HNsBaX/XzydkO1JOAiQPUW9RN2I3v59zy1BO1ngesh59/ZXQP73tcca2kUKmznaBO3ZpWV6bcsda4Bzz66Ax7R7sbBfE29M3lkKfh+tbVg4lcO6ApQRSu2B01MpgRpztAID1YdyntkJAahcAANaKEScSSO0CAMBtAFK7AAAAiph+awsAAMBagYkEAABAEZhIAAAAFIGJBAAAQBGYSAAAABRRZSIxOgUlIUqMTsEgTQ1QhtHwSNJwaTVXSpD9nVQeWFlkaJeyMD5gNQhPJJ6AkEjDon3WAheeIdS56IOxQP8MYyq71S3H3HCPXe+pyrGJrEig2X5ruLPD3op+To4cDADIgq/OJtGgn6och+StLWi2AwDAEFRk5/E16KcqxyfLR7L2mu0yoKSVx8DtPGoXlWh7nXzle85esre9aH/eLrmNfWRq2mza0aeh7bS3I0w5bY/Kk5JgN6c9rnCSgLSFp0E+t8g4kO3gbWzKcf7OImG8ue3J7x+Od/74PgevHJ4a2yWON3fMDtsWccaBCIvvUFZOut1SyqnRP2nlJEgMmPEUGEep3KjWvQiR4kF0ky106GsvfHTy8XaIdBf1WVco7ahmdKBeSWHJCSJkdSjktR+qPIavS+2EwpYhwR1byffs73BbkLrrUO7Ne/o1sWXItulhuGVbA2HKe9sjX/fYLdA/bn96/dU11mL0jAMT+l3W3Q7N7tm/h4TxFh2vDT39Exgrrm09u/FPyHmUMN78Po6dp10EvjNKOYK43VLKqdE/Se2RY8XYP5KfHlP9deogtZyRqPLUVicrpNmuhHVomHO5AssipEs9hE22T/wVWr/chbe5Sxu+Dint6bdbmja8I5p2Z4c9FVupv7r3392kjQNbQGyXnQzQQU8eb1njz4WvOvu04UN2yyZDsz3C1ckreTfcLZNbp5x+Msop6p+UcngfpmrQF/kpM8oZibyJZM01291lamhpHuXTgi0qyce6y+7QVtDoJLYnbrdULfUzSw9cpW0+VrKpMA6S6CmnlsZ5l92kNnxFad4+zfY+Pi748R2a+jal5aRymzTol0HrPmsiWWvN9g8HfBAw8qTa5XHmiuQOP6n5qb34S78eiLgwb7/md8tWW875nc7kpLSn126pWur0KcEm5a4YSsdBKgnl1NA470Lq+cgbNT7ZV8gzRbM9hpQ5/nNB7/gDlJaTyu3RoF8OrfvkiUTcIa+zZrvPhdLQzkJtL7VPtgmnuOrUBnnyWxdn4fjsK+fTMXs+6M4tpqGdgm5Ps70UaI+Hb7dh2vD5jDMOfIaUk69xnqANryf6vZ+MZYWT2NGg7x1vwzTbXbzzc6RyFGuoQT/Y2b4kWvfaV0Ixjh87eU4g5dAhx+jUOnmU88k7xspLOQ8DKeD4dY8ljljp2KOf5zmu3PY8vH73XtjBdqalQNtsNMFtx5dy0pljeP7S3r7Tjhwj2te0R9eV2KjLwRbIS38StJl7jPN9YXPRD205aXYjfWcc3KR/3HxUIn2cQmQcEOeoPC7wdyqRcgShcR1uS6R/OHSs8OSOaXKuCmerys8uq3+8heub66wl5Yh6jlSOIm63vnJq9U9ee7rOUY7pR7d/BxEpZySg2T46yg6n30GjHkyBOr/YMVRIwXSM+9RWCGi2AwDAWjHiRALNdgAAuA1Asx0AAEAR029tAQAAWCswkQAAACgCEwkAAIAiMJEAAAAoAhMJAACAIjCRAAAAKAITCQAAgCIwkQAAACgCEwkAAIAiMJEAAAAoAhMJAACAIjCRAAAAKAITCQAAgCIwkQAAACgCEwkAAIAiMJEAAAAoAhMJAACAIjCRAAAAKAITCQAAgCIwkQAAACgCEwkAAIAiMJEAAAAoAhMJAACAIjCRAAAAKKLKRHJxeI/du3ePHXzQb6wEV+z40T326ORKv1511q09N4WyoxjPMj065u8AAGJ0TySfjtmje4/Y8Sf9ekw+HPCT9oBd6JdgSi7YwcrcBEwxWW6wnbeX7PLykp0fzfV7AIAYVVYkm3vqxNu/r98AAABwa4CPBAAAQBFFE8nVyaN2L7lrG0xukVl7zjyZbZTm+ztv+Ks3bNs6xt2+MH6Yrs9ToPV9wPbO9AcNapunPSZ3u63deiH1Jfvs7VYSqc+hU5Lc7rPyCNQl2h75fadP7C3Epl+2ueW59XdMPjw5fgHX9l5dPbsN65/uPjb5qzaePXtgHdfaRdmD2km+19OeIXWVmD7y7AHALeO6i7/fXT+8+/D63d/6dYzOY/+4fnH37vWL9/plF+9fXN+9+4IfHeafnx/SPOTxCflaiDxoGf9cv3t49/rhz//o16qu7evQd/pQeYq63f3BfMvNV70mx0j7We2R7aP2/OMH8Z22Lr3tCeQRtnO8j2S5D9/x3A26/k37XDsOI62P42WF+ku+Z9U/rRyF+10P/d3WFgDcTibZ2nrza9kd28b2W+p/ub/FdvWfaVyw/zw7Y7vH+2xTv+NydfKKvZkfspfbG/odUe5TXs4bdprriH5ywi73TEmb7PHRnJ398hu5KybH3PmGbc0ZW/xPHMFXNT/yNcKTp2znjvpYsLl3YtWlvz1V4KuWV68Z2/1+h7VW2WT7x9z6r0/Jnb/XvkzK+ziNquXc35e+wbavAbidjDyR8IvOJb8Avt5utxKGbAN422NqOyaZTwu2YHM2+0y/7uJsjz0oKSfG2YJ91H8K5rPP9V8C9aTQW2sSo5+3yMkmtT1V6CqH10Fum4m6n7NDZtluyCOzpX2cylTlAHCLmGBFIiYT9VTXpZlUsiaTC3bw1R5jR+c6D52P/jSJOzM2Y2ds8Zd+3QVfkZw3ZbSpytNo8xkLTw15zL7gk01qe0aF16FZMbWPzF5e6kklazKp0MdJTFUOALeLiZ/a2mRbT/SfNp/N+H1v+hbSxWHuXeTnbDa3t9iEU5w6pze+3mJzviJ5PtTx2gW/A34utqHI9lCMDfbNd3N29uw5cZTLNvOJ7rGc1Prbo2xqTTbCMSwfanBx87KQW25nbG/feViA5zM/etyxrabqX0q4jzfY7MvubbSNL2b8X7NSUo72B9z2MfLHkgWc7QAotK/ERzuApTPRTo6T1fucp8YZGsqjw3mpHKXtcbZD1f/sD1l2l4M4jOXk5kl8VziSieM22OaBzvYmuQ8huM73MG6bfbv1t4fmwdsh2xdoj9tuUpbfJlp3Wg+VcmymSO9jtzxalnooQSfRDuEQt9rTW07XuA89TAJnOwCSf4l/9JwCitErgy9tZzsAAKw3E29tAQAAWDcwkQAAACgCW1sAAACKwIoEAABAEZhIAAAAFIGJBAAAQBGYSAAAABSxhBNJG4odgJvDhK5PkxIIhavPxg7zD8AK0TGRqIt5G9hOpeW+uKsTfykkY6e6INQqxwQyLL0QxnCDJY5ZVg9VLvprhXu+TySxDdaG+IpEhDo3we1+P2RMCAohrtAaoS8g+ywcA60WYhL5ao/Njk2gxCGBHafGBBsdOVT/EnBxqKMx6HP9/Iixva+wMgLppG9t3dlhL4/mng4FWF2uTp6z0+/O2eXbHSbCHY4Dn6z299gZvylpoyhvsJ2DQxkk8z/LsIK85Wzu8QnECukjA5hmBFEFIN9HYoVDl5KlYoVCti2cOxkTIbXrc46SSDWfO1Fs+dFiy4puq1nbWE3ZKoprmWQsp2Cbp2mHjLIbkw42++8mBe7+3K0gnvIliuPlCJEnWwNlHD6yBe/P3W+d+3ot5qWiDvf0cYPbHroF02xZkTHXHmP6X0YEdrRn2nKcbZ6uceD0TyjKcL+kr9Me2Z8O7jgI1sfUGVtS4IYQv2z30RFf7aimOiqqHfm1jbRqIrA635PRUQslY3W011DEWRoZNvReiyyXRLXVUWTdyK0m+qsXbTcD2e6uCLh+e3wbxNvSUFxOi2+fSkh7BiLncmSZ0v5+XX0biHFB6x4eS7QdoXbJ4xLa2nmcHiN2/7jHitek/3Sk4Pa9QJvd/gyUE+4nE6E5bOdclB27xhUAPvEVia1s+NUp2/qdqvgpdtlJs4+stSj+XPB7JH6XtIKSsWIL763YK36bqh+SR46kb4lEcVXp4KVAiGfRcbL5bUiSio9Hq+8+F2Irlbn4yd2q8+mT9A31j0uonM1/iy3BU/YbWXkYYbG35FwbBF/NidVVt94MAD7pzvauQeoo/4kTyL4Ir45k7IT0SvpWkigeUzo4i5Ca4xVb/Nk9PkLQLVCeQltBo5NYb29rktr+o9jv+3LWf7NijwGRvuKTi/6oOmJLkNt0fnQ+wZYnWCfyfSSVWE7J2IlIkvQtlSjmJJUzMsQXYvHpN3bKr4hyHKQg75QZO+Sr4qYtYkU5OVqlcWEr8Ltc9Er6ypWSXLn3QG7mTKqw8nDBJAIKGHEiqSQZq49pT1zhoAzdWVeSjDV3kgOc7Q0R6eBhkr75EsW1pYON4zj/dzp6u5NPhMShTZ7kSu1jG9V/Q5CSvN72UDpyErC2RMVKKVfS16uDvpDbyK07YrcuCp3tmERAKdpX4hBwtgdIcdAqx51wBOrkHa+cjuZz4VgU+RInpHGAN8eo+hFnpsA5jpZlHJJtos5djcmjp119uO2OtUcl38lKPu+oT1E52gHsJ99p25Qz0C7eOOh6yEEnv4/d/uN1fC++4zrbqZNYvheos3LUt6kpJ2gzkUIPjegk2iJsaZXj94svHUyOEd+VZTtO7lAfee0xthnibPfPizY5dQGgA+iRgET0KkFstQyWEVZ5sOOJt9cAAKNyYz4SsFrIp4z4/97vQbJQW3RvfjTbhmJLBr+gBmDVwYoExBE+I/mk0Jwd/l7Dyev4wYpWOACAZQATCQAAgCKwtQUAAKAITCQAAACKwEQCAACgCEwkAAAAisBEAgAAoIglnEhUuAdfuwGAKRE/nhRhR9J+59JooejXgxChShLLA2CZ6JhITOwempb74q5O/PxYUCMw1QWhQjluRN3R+jhJoGkaqlz01wgvqjIEskAm8RWJHXkUmu3rB5+IHjybsROnj6tPxvpHjdBsX06k9IMZAzxBsx3kkr61Bc329eP+Pr1QdoV8L4KvbqHZvlIozfYb0OkBK0u+jwSa7Z007ZDhwJdfs30aoNlukr9t6LRH9qeDOw6C9TF1rrMlJZUZ51vsm6l1esDqIkKk+OjQ0naobx1e2w5T3obSNuGmne/JENih8Nux0N8qj7acFD1vQei9FlkuCb+tw9d3hTMPhB5PxtXeJvjt8W0Qb0tDcTkOuu295eYg8wyHN5d9Iu3v19W3gRgXtO7hsUT7zu93fVxC/3YeF7CTe6x4Teyow8G37wXa7PZnoJxQe3hpOhT8kDDyisZ2MkXGCAAB4isSW+YTmu1VWF7Ndn53LIIzNqJjywY02wVjabYTP8kxk6vc6r4ysLakO9uh2V6PXi31qTXbxRYL/4xf2M5HmUCh2b4Smu2G+/vsRIT7r+orA+tMvo+kEtBsNxN0m+gd7lSa7SNPItBs12nJNdsJ+ZM8uN2MOJFAs335NdvTJxFotresnWa7w9XJc34OztnW19VvK8C6on0lDgFne4Cw449CnXih45XT0XwuHIsiX+KENA7w5hhVP+LMFDjH0bKMQ7JN1LmrMXn0tKsPt92x9qjkO1nJ5x31KSnH6xsrubZtjh1oF6+sroccdIJmu0Y76Uny2mNsM8zZ7tpiaB+D2wuErUAiepUgtlqg2Q4AsLgxHwlYLaDZDgDoAisSEEf4jKDZDgCIgIkEAABAEdjaAgAAUAQmEgAAAEVgIgEAAFAEJhIAAABFLOFEon6l64fcBmBKxG9exK/F0x5PbkLY69eDkOHv8Tg0WD06JhITcoGm5b64qxN/KSKWTnVBqFlOE2RwpHq7QQxLL7oFVLnorylNYEwooYIM4isSO2AcpHbXGH7jsL/H2HyuX1dG/xYFUrtLDu+n58/GGwZgfUnf2oLU7toig/TxS/vL72f6nZqoSQpSu8uOvpk4esmefqnfAiCRfB8JpHY7adoho7iuiNSuvAs9c0S/agKpXZP8rWGnPbI/HdxxEKyPqfPw6L8q4u8uexoR2gKgE/HLdh8dTdSO0KqjotrRZduooSZiqfM9Gbk0FDU1FrFV5dGWkyLDKgi91yLLJVFNddThrii0JRFQXclUgt8e3wbxtjQUl6PtQvqrK7+BSHuGo9K2Zft19W0gxkWg7lZ9m2i6Vt/5/a6PS+jfzuP0GPEi+VrHitek/3QU3/a9QJtd+wfKCbWHl1YU/de1NRkTACQQX5HY6myQ2q3CUknt8jv37de8/1Yi1hWkdgVjSO1KrZSe9gAQI93ZDqndevRK4E4htXshhaFGn8QlkNpdWqndlbqZAMtKvo+kEpDaNRN0m+gd4chSux9O5YWN+JTkhVn7XAb4iIJAalen5ZTavfjV6nOdtvnq3Uxgvl8HAJ8RJxJI7S611O79ff8CJS/MYquS/+1s7UFqt2WdpHY395wxwNOJGGt6AvO3sgEIoH0lDgFne4Cw44/SOEBN8o5Xjj7zuXD4iXyJE9I4wJtjVP2IM1PgHEfLMg7JNlHnrsbk0dOuPtx2x9qjku9kJZ931KeoHJeIs70pZ6BdvHHQ9ZCDTpDa1WgnPUlee4xthjrbKXC2g1ygRwIS0asEcacKqV0AgMWN+UjAagGpXQBAF1iRgDjCZwSpXQBABEwkAAAAisDWFgAAgCIwkQAAACiAsf8HuODfZpcXji0AAAAASUVORK5CYII=)\n",
        "\n",
        "\n",
        "![image.png](data:image/png;base64,iVBORw0KGgoAAAANSUhEUgAAAjgAAACWCAYAAADT/PJBAAAAAXNSR0IArs4c6QAAAARnQU1BAACxjwv8YQUAAAAJcEhZcwAADsMAAA7DAcdvqGQAACjGSURBVHhe7Z3NahtJ18fPvPcg8CKGODS5ABMwhFkoMAuTtdB6HOwshqxt4b09itchi0SY2VrxevAiEC0eAiaJLiAIM5CBCfFF6K3P7vpqdfWHZLvz/0El7u5SVZ1T1d2n6hypfpkzCAAAAACgRfyf+h8AAAAAoDXAwAEAAABA64CBAwAAAIDWAQMHAAAAAK0DBg4AAAAAWgcMHAAAAAC0jsYNnOnwAT148ICOP6sTFbg+fybKeHZ+rc6Am0D0w7MxtaUX2ibParim8bNbcC9+PsYz4Ua5JeMAgBIUGzjfx/SMPVj4wyVLz2j8XV2/AfCiAqsDD3YAbj9TOmbvpjoT6zuHMPqPmeRLpql6tC2xwnd35ApOl4Yfr+jqSqbLE6LB4/Bg2hzIPIeP1IkKdHqnoozTXkedAQD81Dw6xDMBgDuJnCQ+OCTafq5OrYhKLipugJyzho5eYxUFAAAAAGGuzw/o4uklXZ32KVHnVkXlGJzN33aJJhf0QbmqdNzMQheW8qO7KV3+d667K0Q6vmdrf8LqHtBWXl7XrVZlScxzzZV1y2WuDd3uYFsW1sOXXdnxZ53H+dtoj63/ii4Vpy1Czw6WLDwNyy1cpu5Fq69tWUQdvFyrPc4SaUz/LJRHLmnbejKXueXfDx5s0YAPt/2ttByvLd64rrKcq+sLlyP71y435Kp1+6fKkr09lqT8LsX1+PK4Y3LxmFWzPuO6n4fj1hMYBwVEjTevHuM673/WD1Mtj/N31mJfpkwedc3pT12vKfdivcXKU0zxOFgkTzxF8nDc8ZbqKZWxRyN2OOoH8ii8MgLPLi8PS3psy3YW34Mx8qTt9vq7mLT8vpCYerl1LRizGucZyZMtLztXsx6+IHJjK698L6qF/Hc239nYmZ/9p4414vzG/OiTOtZE5/8yP2LHO+9+qGMTec0rW/Hj3c58Y+dsHvpkqF1f/tzIzx8iUIaoMyRXLj/mZzusXktGR+bCemT+jY0j9pcuj1+Tf+ty5Gd4Hs0i3eaQ1xZDb74eVfv+zGouQrZVyyRxyxXHVh4lu64npn8K5QnpSJ4zP6PrztXlpyO7XoZsv9kfRQTaIsrNyvD72JVH1Wv2T0AHRfj1+PIX11OgM4ZfT9GYDZXJz9k6Ka97/Rnzc7KubFz7bbPaL/pK5Ve6EPoRf+ux4ZbJUHnTcgNjqXgc+G0rlqeY4nEQIU8EMfKIPOZ4CyI/lzfWvTGr8pvtz8ujy/Tb6rctRh6BOU7UqdI4Y8MmR4+BthU+H2rXk+HreLk0/i2qXP6d0YR2aTuNzdkU/rjJ7Js6bobpXwOaPD+3YoA2fx9S11htKkKU0R3SnlFGp/eSht0JXfyvpL3N2pJZr+uUdNWfjNh6uid7TFv675fUX1MHgim93WeaHR+mebhu9066NPn7Q/TsIKQ3C2bpv3pDtPtHnzJbfJMOx7tEby78mcFCdun8KmtvuH/MPB168pQp7utMyBOjt0J5GoHNYF+z2c3zF1afbA7OWetHdBG5enJ9/opGTJ6XdWY5on+6NDw2+metTy+4K/l9bO+ExpJDiXryx18zY5aPi/6p3VaxslyJ/PEW6p9O74XTx0wnv+uWOPrhfH5Lg4mZh8H09tKU+dGed+9P3/Pxta3aVUZv+fIUEzEOYuQppIQ8JZ7fHjHPrtC4Lk0JeZiuTnlM62md+vKJG7OS+OeDT5l6boLqBo4wWLqU3FPHRdxLWG5T6CldsEHXTdbVcYO86RnLZSw9Zi87dSmah0lw4DVtkDVVj7U0y1LIvZTPNc2+xvRFXn/PaFb14ZMyodm/6k9ON2HmYIYIPDcfBgv1FitPM+TVM/sn7jH/bcb6KkeeckxE8L85DnrsHovmO+vHqHu6qB5ueFzSkAw3cmApvt6YlbjuALmcXoGi8ea4xLVLpBwJJdbkRDGZkbzbpSEy2X9rv3RNI4IRpbcieRYRPQ6K5ImjSB7edv3FFpmnvBuSKWTxs0u8z3LkKUkT47oRCscsM/Ku2GTMfF+WDDkQNHJvLIfKBo6YWXS36UnJAZF1fo9mJ5fL8c2xmbv+xleWTp2Vj2rc9Eszj92xKy9L0bODDiUP+XOpqvHWxIOhhLG8AKm3uvI0Q3I/TvvrfFkvena9CPYyNL7tmKZB7jzcZo31o2toBomphxs5+poydhwjp96YZXw+Zi8PstvCZ+XLgM1SL812qtTICqFhjJiz3+v/XdAk8IytrbciosdBDo5xVUSMPMJAU9eksVPFyAmhnl1iAt7ERG0F/RNL1JjlRo6+poydskbOMu+NmlQycHggVq/kcp52GZgKqGrcdO4n7O0VXrIUS9Ssk6oEV2pCZfBI8MFkl140aJA1U4909Y365YMITcRL1nA18ZmxNfNYe0LbXTZzPzRfUlM6ZjNm04VWnmsaH/KxYbt5FhGjt0J52COYZ8mMIB4oF5p5KGMpuOyuZ9wH1sN2OmTlsJvedKEtQo7nAb3V8vCgVaZXE5HHeADH9U9ZpE6yJWseROoEl1aqR7lIUpoZsz5yPDZN59dt6rL+OagQQJvyaFsYLj3z5fF9TAesD13XCXdpjN6P6cPf/rXl6M0lYhxEy7OIavKI/lB/Z7htNoh5dimjbvCX/rz/PCi8B8vIw3RVNcg4xfOKZFQbs7L9Ho3Xs0JULE4+OhjKTF6QkAo4c/OxlAUfyWAkL49RVhYc56RAcJyb1wqU0kF/Ziob2OSVkRdklUcosM8N1GMsrMcM4DI/65cT0p1VTwRWGbzdvG2W3vx+LluHDEBbXEZUIFpE/xTK44zto09SPj/ozh27dl2eTGXHGsMqg39eyGfXY8mj81h1+f3DU2EQoYUtK/8sr9fuo6J6Qvd6Qf+olD+e/DHvt2NnfvaJ96lf1yKixlvoOajrEX2lgoNFvsDfAl8vwb7RdeW0qUhvUfIUEjMOIuUpIEoe5/pCvelUcG94Y836PO83KZ9Zl9UWXr53DxbLIyjo41jcZ49Vj6sPkYx7I3Q9pz216hH3h3udJ/PeWA6/8H+UrbNE1Azg4bmzjC2t5KW5qsCtQ856EivIGAQQqzgEPaXgWQFWjRxzNL4d7hZQntV9iyrE5wuxBBgbqwAA+En4PqZjY9lbfFuDurT9K54VAIA4VmTgdKh/PKQuD2Ayo637MxEgCOsYAGCx1qc9OkifFTKYuJkvCgAAfg5W5KICAAAAAFgdN+uiAgAAAABYAjBwAAAAANA6YOAAAAAAoHXAwAEAAABA62jcwNHbzdf5JWH+Wym8jCpb74OalPqFTf77RvX7SfR3nV/0BLcU/jsi/HkQ80u1zYylYlZVDwiBex2skmIDR7/wrNTUPiDVwE1SBTzYAbj94D6thjSm60ys42iqnjLGfx1WVc/tJHIFx95cT+/sGurkzUH9jbb0xmr4xdIbYMnb+IOfCb2RH36NGQCN9HJcUHLi76jVJKuq5zZTyUXFDZBzvqnYa6yiAAAAAFF8PqYe8U2nD+mJOrUUVlXPLadyDI7Y0dnY0VvHzSx0YfH9ddI8WUqXY53r7gqRju8RO7hOBrSVl9d1q1VyZ+mlPZ2queVsvchky+uUK845y4mem9C8ni1pa/2IlMqs5ZC7AU/2t7I8VjmOvDlb5tvyODsMCyL05shj78grsWRhqdKS8EK9xeLKE3AfFIw3IQvXp5WvZFvEZ6UuTd24bcnXmxwnx58zeey/VTaGW4Y5FmT/+30qPpPKLetKP59z/xWPJb8tnu4jKK7HaW8j9YTL8HRb+j5d3D8aLw9Luo9lO+0yxTmnn2LkKSTiXq9VT1q+3Pl71M/KqSJPbv80Vc+jQ2c/xgXo92HOs3ghZeppM/yXjBcidgoN7PqpdhD1dnWNzi93avV2WRX4u7iaiJ1N83ZhDbRL7O5aatdWvvOsvSOx3CG23C7FcgdW8zPOjsjmLsQacc78DNOF1Xa1K256LtslN9NlSLdO3QsQsgZ2cC+URxwX6C3QP25/ev2VN9YWUqS3GCJ0FjHepA5MPai2BHSci6rH6mdn/CzWm6pT5ddt4tfE36otXhlcj7zetK2hsSXPhfon714tHksyj1Wm2pU4VE8ecWPWlI+h9Law3x38enw95enCxteDSXH/5OfRevPb6rctRp5CAvfGUuoR2DK6xNTjti1M/Xo0fl4HvQt3medEgMJ6Wkzj36LK5d8ZTWiXttPYnE3afs5mKrNv6rgZpn8NaPL83IoB2vx9SF1jtamYDvVP7bgBsWJViim9ZbOV3XHd+INNOrTiYTr05GnAp8pkzmKW1ilp3O0aI0+x3kL9Y8FmSq/edGl4bMi81qcX3CX6vsxMJlJvEUz+/mDN0Ezix9uusTO4asvXWW65eXTN3bQfbbNSJzT7l/0dq7fnL7L9nNx+EGWwlv5h6o3pccz68M2FmvFv0t5J19aJ2DTXvLeLiLs3uCvcap+QtwwR9Xx+S4MJ09vvRg6mt5eujAsJ1RPQE6fUc8ghpn9C46A0JeRZQOG93lA9xayof5qWh6/C8Bg2rMRUprqBIwyWLiX31HER9xKWe0QX6VL4lC7YzdpN1tVxg7ibej5mN5q6FIu7zPigzxcmS/B9RrMy+lmAu2waWuZdOpHyLNbbNc2+xvT5RASxm+X02FgpS329cYPtkoZkuEOd5WhBzHjrJszszBCB9BUCue2d92UQb/YCaUJveX3M+l89+Du/bjMDbkBvxb18TePXI2Z47RkP9QJi7w32srZcf8o9EE30PZhQEtrEczKjMtMvy23BkjveeJ/rL2jIPFXc3gX9I57LOfKUpEiexcTe63XriWc1/bM6eUAxlQ2c6Xv2qOlu05OSN1LW+T2ambPRJmGzBv2NryyV2In48zEblHz3YuPzfJZUhjX2kGGPGjG7rgE3GHpv+Ow/a8slmxGsnBh5CvXWoeQhf28UvTbsb+2lqcRMpjm9cSNHl6GMHdfIqTveGqO+3vIxXprmytD3D3Qx6dL2ryXu46h7Y0rHzFAk9ozIZDkvt4JT9x50jNIidseGznVyjFhh2Kpr8mVa7SXqo/pHTCQzY7QOMfLkE3uv160nnlX1z6rkAcVUMnD4zLhXchlUL1eanV7VuOncT9idE15KFC4RNqOuFJSaC3vY9kuu4Cg3UfZNMx7I6AQ4ioeR8QDmQWVF9bBZ7UGlGYF64FRe+lXypO6OgDwevt7WeSGpu0MaItYMZ+0JbXcnNDgMrJTUobLeTHw313LGWwWa0FuwDNmH7gqNcMOxfhz/74Ld14bbK4oqY4k/d0qu4MTUI9xeI+qZgZxqrNiuoEVId/uoXy5wXKyEqb8zFtynMf2jjLrBX7ol7Lqz8iWen4YR5N2DFeVxKbzXG6pH4va1SZP903w9udQJMgYSFYuTjxHcmCYvEEsHMPopC66SwVZeHqMsHfjopUCQlZvXCvrSwVlmKgweM3Hl2ZmffeJ6KBuoZct89MkPIJQBYDoPK1/o2w9Ss/Jw+VJ5AkGS6pwf2BYoS10J6szN43ye65z3Q1ZPnN6svuPttuThuOXIlBfYF6ZIbzG4Zahy1NWUgvHmB31WIBCw6bNIb/Y4EW0K/B0qIxQgmeVzguQ5oWeGSGbeorHEarDuDX7ti6izzjgI1ePm0fnKIvTolGPWE7oericwdtWVqP6x9M91Lssz67Lawsdm4N4okicGq4zgvd5MPQJ33JWsJ3Q92D916sm9NwJ16edKem+WoEw9LeYX/o+ydZaImjk9PHeWy+XsYmmuqluH1MPF059FXgDAzSOfszSu9wOsANw1VvctqhDi2xdu4CQAAAAAQD1WZOB0qH/MffbOt036MxEUiVkFAAAAAJpkRS4qAAAAAIDVcbMuKgAAAACAJQADBwAAAACtAwYOAAAAAFoHDBwAAAAAtA4YOAAAAABoHTBwAAAAANA6YOAAAAAAoHXAwAEAAABA64CBAwAAAIDWAQMHAAAAAK0DBg4AAAAAWgcMHAAAAAC0Dhg4AAAAAGgdMHAAAAAA0Dpg4AAAAACgdcDAAQAAAEDrgIEDAAAAgNYBAwcAAAAArQMGDgAAAABaBwwcAAAAALQOGDgAAAAAaB0wcAAAAADQOmDgAAAAAKB1wMABAAAAQOto3MCZDh/QgwcP6PizOnEnuKbxswf07PxaHd912ibPTSH1yMezSM/G7EwO38f0rChPw1yfP1tpfQAAcJeIM3DEw/sZjb+r42Xy+Zi9TI5pqg7BKpnS8Z0xTldhxHWof3pFV1dXdHnSVecAAADcBRpfwdkcyBfC4SN1AoCfgbU+nbJxf3XaZ2YRAACAmwYxOAAAAABoHY0ZOCIeQMcq5LmzdJyCkbQ7JP18f8SORtQz8rhuCB3nk3c9Bru9WzSYqAsp0l2T5SnrNstcKFZ7rZiJzCVktWfo1CTcdkYZgbYslEd83ukT0xWY9kuPaZ5pv6/LYcmJ8XB177XV01u1/snvY12+lHGyv2Xky/Qi9WHrSZwrkKd8Wx15PX34dcjk3iOu3gL3kHP/bO17gzZOnhuIFwIAgJUzj+G/s/nOxs787D91vIjcvF/mRxsb86NP6jCPT0fzjY0jljvMj3c7dhkif0S5BrwMu44f87OdjfnOux/qWLY1Ow59pghZJm/bxp/6U2658tjKI/RnyCPks/X55U/+mawthfIEygjreXEfiXp3zljpGtX+VD5Xj9WI6+PFdYX6S5wz2h9Xj8T9bAihn1QXech2+7LYbXX72BsXjMryqLKK5AEAgLvMyl1Uo/f+DLcMnd6pHd/zaJt21Z9xTOktm/nujg9pU51xuT5/RaPukF72smiKTu8Fq2dEF2UDcJ+f09VA17RJeyddmvz9wZ45m3nWntB2l2j2D89xTePXI3b9BfXX5GXO5uDcaEuxPI3AZv2v3hDt/mHGmGzS4Zhp/82FtVLiyVeS+n0cx6rqMZkOt2jw8NyJUePBzHb/bf5mt2T614AmbJwsim2LlgfxQgCAn4AVGjjsZXjFXsxvetkSemA5vxDPzSXdKtF8n9GMupTcU8d5TAa0VaeeRUxm9E39yekm6+ovjvzmzqlhXNnXM4QRFCtPI+TVw9og3Cm87Zc0JEN3Vdwgdfs4llXVo/l8TL2vQ7pMDd4M28XIknDVaq5p9jV/HKSsWh4AALjFrHgFhxs58ltWV9rYKWXkTOn48YDo5FKVocpRV6NYSyihCc3+Vcd5dNmLKK0jS4tm0NF0Eyp4VUWR3GdGUKw8S4W1IV1hyr5afXWljJ1SRk4DfRzFqupRcOOjT3QeWjVhhs/WPtHwo24HS3xlLKVDyUNuF5tmscuK5QEAgFvODX6LapO2n6s/Te4l1GXzzlhX0HRYdpa6TknXdJXxYGA7KLfz6zZ1JwM6qBAcuxD2kjvg7iTLzbOIDj152qXJ/oEVcCpkZgbYnjC2iuWROjWMIB5gbK0QaNyyDITrbEKDQ9NYYS9VVk73ZM9yr2TI9tcl3MfqpZ/jDuvcT9i/emVJrpCEgnJNyo+lWKTxkUS7EaVeTdZ5xxiuwFry6JUeBBkDANqMisVZjA5KdJMTXOpdZykNAg2VkRPkKIInjXxmIKl/7UsgaLMII7iXJf5ZHtRpBawGZXaDchcR0okbfO0GHYdxZfb1ViyPXQaTQ8gXkMeV26rLl8luu90OmcroTBLfx259dl0yUFclLgcPujXkKawnb9yb/agCef2UtcVqh5Ey3bl6ZeV/8vvHKoffe2Xl0Wi5vHEEAADt4Rf+j7J1QKOolZSHZpAxAAAAAFbBDbqoAAAAAACWAwwcAAAAALQOuKgAAAAA0DqwggMAAACA1gEDBwAAAACtAwYOAAAAAFoHDBwAAAAAtA4YOAAAAABoHbfcwOE/lveAnjW9ZQIApZjSsdi88jjdKmERYuPMutsg8O00IusDAADgE2HgSCPD2umYpdttdMgX0nHkflZLZVUvqqbqWcU+Re6u1ze4J1IjxkgL0bubY3IBALirxK/gPD/Pdin+OCTa3yq5Ezi43ShD9pDCm6A2BTduxMaTesfrKjuOrxq9C37sZpl3GGV8HtA2diIHANxpqrmo1vr08sTe3Rjcba7PD+ji6SVdnfaJ78O9HJgRdTigCTOWD8VO6JwO9Y+HYvf2t7dhxe2nhvfPBW1/vKLT3vJGAQAArIJ6MTjdhNbVn9Mhm/3zFR3L/eC4TIQbRV8LXGfopXGZtmgwURcE0vVkL5sb7qi07h6N2OGor8thyVkhEO3V13gKrUbp8iqsLqRy9EVLqGfUFWp/2o6Qm8nSqUza/dZUPZ3eKXupddTRsvhGM9afu7856yBrT2ib2cuj97xFBX2c4srzjMbf1SVG6nqyxlyWR/f/1j5rEDOuttI8Zj2OezZvHDj9I8p0cMeb7/px5BH96eCOg2B7dJttfcTBjM3TU+qvqUMAALjL8K0aFvNjfrazMd/484s6Zvx3Nt/Z2JjvvPuhTsznX/5kedi5jY2juczpfO7TEbu2Mz/7Tx5y5Gd0fvaJdzvWsS4jq+fL/MipV587+qQOBaFzGaLenTNWukbmt2TkKDntvCURcpsymfjy+DpYLEtK7XoyfP00hNCnPQY0ok6hf7+tvg74uLDbHh5LthwhuUS+CFlz86kxYvaPm5cfW/0n+sr8TEBmtz8D9YT7Sd13OXqOJ9QPAABwd4hfwXnTy2aOj/Uytjvj36XzNE6hQ0+esmn51xmbU7JZ5Ws2I33+wpodbg7O2SdGdCFmzFN6y2a+u+MlxzmwWfCrN6ylf/RZCzWbdDje9V1ua3065bEXp2be5rg+f0Wj7pBeGnrs9F4YOsmQqxvVKFPP3YCvNNjjZPO3UMQIG49G360nbDw2zPQv1+Xmw1fHrOuP7PiWUP+4hOrZ/J279i7og7VSw3XD44WwEgMA+LmpFmSc9/A0XFYc/mA3jYNuYl7NmP1zzQyPGc2oS8k9dXKp5NXD2lB6Wb8mjntEu9cyeIArMwRNA7NKcHdhPatiQrN/1Z8p1zT7mj8+QtiuTJZCLp2lE9luz8Vo6/4b99s9TIqNaHMM8PSYGT3qEgAAAJt6MTgNkdxnj/a1hJLgy2+VsDasetbLZu6XqeGYJXtFQH+Lhydl7JQ1cqLqWTJWrI3B9w90wd7UYhzE8PmYtvaJhh8NWfgK3MrpUPKQmWyzb+o4xJSOmSFCJ5eG3vnKZYZYWRIrnQVYkwydsFIDAAAhVmTgSHfVZP/ACnycDtlMlr1498RLdp34cz57+fFgSTfIWObJXig8MDO0EuGWZSBeshMaHJoBmqyc/oi6J3u2e0zPvCsEGafcS6ib4wrq/Lotvj104AWcLmIz/DXuxuvJRwfMlv+dIeW2ZAaaFchrfbMqto9NZP9VoXM/YZW5bp54hHFiuDb5ylIoyNhEjHv1N8drAw+MduQRLjhLb3nUCTIGAIAWoWJxFhAIMg4QE5iaBn7q5OWXgY36Og+o5OVagY468DfNI9tnBXFynHx2XToQM0vBYEpdRoFcRbhyL5JHJj+41Lqe055a9ajAVz/5wappPRX14o2DvOBulfw+dvuPtfET/4wbZGzIxxDnAm2WAcpZSusJ6oynULC8SlwWrkujHr9fvnhj1srDPyvqttsf7CNPHq2bakHGri7y6wEAgNvNL/wfZesAEIlaVeEuk0HVkHBZBo1X7CYDAADwU3ArYnDA3UJ864f97/2eTSmkq230Wrv/uGulga0mAAAAAAZWcEA8PCZJfHOnS8OPTQS3OnFWtVaEAAAAgAwYOAAAAABoHXBRAQAAAKB1wMABAAAAQOuAgQMAAACA1gEDBwAAAACt45YbOPJXWZ819Au8AFSD/2YP/3XguK+xi32y6vz6NYf/mnFkfQAAAHwiDBz90+92ut1Gh3whld9KYAms6kXVQD3uBpZL62N388m6xkANGjFGWoS3iSm2fAAA3FHiV3DMjf4+Don2t6rtag1uJ2IDy4TOnT5u3EhUv6WTjFU9V5c0pAFt3WojQ292emjvVdZCOr1T1S8yXZ4QDR5jJQkAcPeo5qJa69PLE3uTQXDHeXRov8Dzdv6uxbWzsSanQ/3jodgM9O1tWHEDFmKjVprRDKs4AIA7Rr0YnG5C6+pPscM0X9Gx3A/OzE+4UfS1wHWGvUTu7iYuXU+268RwR6V1y92aR31dDkvOCoHeETtNodUoXV6F1YVUDrEr9Ih6Rl2h9qftCLmZXJcOS3plpdF6ls43mrH+9LZ4sIypgj5OceWxXSmp68kac1ke3f9i529mXG2lecx6HPds3jhw+ie0m7g73nz3nyOPs5u4wB0HwfboNjfjWpr+xQzS7jY9qf2r1QAAsGL4LxkvRu1ObO74rHZZNnerznYh1jsgO58TOyGHdmFetAO0LCOrR+42bu/8Lc/Zu4mHzmWIeq3dkdUu5nm7WtfZSVnI7ewKneLL4+tgsSwptetxULIX1lsGUWZ4l2vRJ0L/flt9HfBxYbc9PJbsvvP7XeWL6N/cfAE9uXn5saVHtSt4di4gs9ufgXpC8rDaau0mzkl1J9KCMQIAALeY+BWcN71s5vj4grY/XtFpr6MuanbpPHVzdOjJUzYt/zpjc0o2q3zNZqTPX1j7F20OztknRnQhZsxTestmvrvjJcc5sFnwqzespX/0WQs1m3Q43vVdbmt9OuWxCKdm3uYQm1Z2h/TS0GOn98LQSUYdV1GZeiRTOuZ7TrHP7N3Knb471D+1x8nmb6z/PNh4NPpuPWHjsWHECoflcvPhcS3W9UfbrGUZof5xCdWz+Tt37V3QB2ulhuuGx89U3yvMisMZk1gVbDwWCwAAlky1IOO8h6fhsuKIB6Xxgukm5tWM2T/XzPCY0Yy6lNxTJ5dKXj03EGvguEe0ey2DB7gyQ9A0MKsEdxfWo+GuEnaNvXAvl2LYTWj2r/oz5ZpmX/PHRwjv2z4hl87SiWy352K0df+N++0eJsW6NscAT2Lj0yXz6JDO+a7vjcZiAQDA8qkXg9MQyX32aF9LKAm+/FYJa8OqYw24IZEajlmyVwT0t3h4UsZOWSMnqp4lGzd5gcvfP9AFe1OLcRCD+MYX0fCjIQtfgVs5HUoeMpNt9k0dh5CrYXRyaeidr1xmiJUlsdJZgDXJ0KmJXd0XUd74BACA28CKDBzprprsH1iBj9OhfJlKN8g68ed89vLjwZJukLHMk71Q1AtZHWW4ZRmIl+yEBodmgCYrpz+i7sme7R7TM+8KQcYp9xLq5riCxDdUJgM68AJOF7FJ22xG7VG7nnjjRgfMlndbKLclM9CsQF7rm1WxfWwi+68KnfsJq8x188QjjBPDtclXlkJBxiZi3Ku/OV4beGC0I49wwVl6y6PZIOPr8wN2D3Zp+9fGzV0AAFguKhZnAYEg4wDhgEcbO3gxlF8GW+rrPKCSl2sFX+rA3zSPbJ8VxMlx8tl16UDMLNlBrQpdRoFcRbhyL5JHJj+41Lqe05469Xh9YyRXt2neinrx6soL7lbJ72O3/3bmZ5/4Z1x57ABZcS7QZhmgnKW0nqDOeAoFy6vEZeEBwkY9rrw77754Y9bKwz8r6nYCfFVwspU8ebRuqgUZu7qo2scAAHDT/ML/UbYOAJGoVRXuMhlUDQmXZdDYdZMBAAAA9bkVMTjgbiG+9cP+937PphTS1TZ6rd1/3LWCX8wFAADQDFjBAfHwmCTxzZ0uDT82EdzqxFnVWhECAAAAMmDgAAAAAKB1wEUFAAAAgNYBAwcAAAAArQMGDgAAAABaBwwcAAAAALQOGDgAAAAAaB233MCRPzv/rNRWBgA0Df9RQr79Qdzv9IiNQOts78Hh2zVE1gcAAMAnwsDRe9vY6XYbHfKFVH6vpCWwqhdVk/Wku18vqd3u7tp1jYEaNGKMtJR0x/Yqu9cDAMANE7+CY+5k/HFItL+FB18rYQbt4YCo21XHDaN+LDAZ692wL2lIA9q61UaG3s390N6Mtc2wfjrYX94wAACAZVPNRbXWp5cn9i7KoB2I3aOZyfHyj0SdaRJpPGU7h3M61D8eit3O396GFTfAUEbuyUt68VCdAgCAO0a9GJxuQuvqz+lQLWVb7gfHxSHcKPpa4DojXRYXyfgZf4F0PdnuMcMdldbdE3sljfq6HJacFQLRXn2Np9BqlC6vwupCKkdftIR6Rl2h9qftCLmFLJ3KpN1vTddzsD+h3T/6zOxYBt9oxvrT28Nq7QltM3t59J63qKCPU1x5ntH4u7rESF1P1pjL8uj+32LyEjOuttI8Zj2OezZvHDj9I8p0cMeb7+J15BH96eCOg2B7dJttfZRBGLmTXXrRW84oAACAlcC3aljMj/nZzsZ8488v6pjx39l8Z2NjvvPuhzoxn3/5k+Vh5zY2juYyp/O5T0fs2s787D95yJGf0fnZJ97tWMe6jKyeL/Mjp1597uiTOhSEzmWIenfOWOkamd+SkaPktPOWRMhtymTiy+PrYLEsKbXrUXqx+iuvvIoIfdpjQJPV7bfV1wEfF4G2G+2V8tl95/e7yhfRv7n51Bgx+8fNy4+t/hO6NT8TkNnVf6CekDysNnnf5ei5GFvX1pgAAIA7RPwKzpteNnN8fEHbH6/o1Jvh7dJ5GqfQoSdP2bT864zNKdms8jWbkT5/YW3QuDk4Z58Y0YWYMU/pLV89GC85zoHNgl+9YS21Vik26XC867vc1vp0ymMvTpezoiF25e4O6aWhx07vhaGTDLm6UY2oej4fU+8N6787sdllh/qn9jjZ/I31nweTx+i79aT5gJLpX67LzafTO7WvP9pmLcsI9Y9LqJ7N37lr74I+WCs1XDc8XqjaZqjTYY9GBfIAAMBdoFqQcd7D03BZcfiD3TQOuol5NWP2zzUzPGY0oy4l99TJpZJXD2tDxWX9yjjuEe1ey+ABrswQNA3MKsHdC+uZ0nF/tHzjUjCh2b/qz5Rrmn3NHx8hbFcmSyGXztKJbLfnYrT7+Bv32z1Mio1ocwzwJHZ2b5A7ZeQCAMBi6sXgNERynz3a1xJKgi+/VcLaUGHWWws2c79MDccs2TNo/S0enpSxU9bIWVTP5wvxwrViloTBoGJ6KsQgBbFibQy+f6AL9qYW4yAG9iLe2icafjRk4StwK6dDyUNmss2+qeMQzHhkhgidXBp65yuXGWJlSax0FmBNMnSqtlITYvre6HOVem/YKWVY+XFDAABwe1mRgSPdVZP9AyvwUSyHsxfvnniZrxN/zmcvPx4s6QYZyzzZC4UHZrorHhy3LAPxkp3Q4NB8acsVjO7Jnr2CoWfedV7w9xLqsha6LidO59dt8e2hg1Ivjk3afq7+NKlTz6ND/8UpDAbucmR/Oy46HTBb/neGlNuSvTCtQF7rm1WxfWwi+68KnfsJq8x188QjjBPDtclXlkJBxiZi3Ku/OV4beGC0I49wwVl6y6N6kPHmwBkDLJ3zsaYMK98lDQAAt5eVreBwd9XlCdHgsTE7/Dqky/TlyWMHTFfMFs3+UA/YFPWV4jRPj2h8SUP2jrFx87GUGim8HvXbK/oaK2fGZthLeYCrr9SbqyPpTJjH+OjfFErbwpPxDSfPvaH05roR6tZTAh3LMnpd3vCT48BsJzNiH7IXaCpPRB8/2mPHzEhNx9IrSsbsM+pyKZhxd/7cLMsw3Azd29+2yowHLs/582zVY2v2wllN2qQ9Ju/E0P2r5NyR59C+N14ndMn6y5KHG6GsXGuVjaemVtcAAKBl/MIjjdXfAESiVlX4zL5yvIYsg8auOw4AAACoz62IwQF3C/GtH/a/93s2pZCutmwViLtWqq0oAQAAAC5YwQHxcJeN+OZOl4YfmwhudeKsaq0IAQAAABkwcAAAAADQOuCiAgAAAEDrgIEDAAAAgNYBAwcAAAAArQMGDgAAAABaBwwcAAAAALQOGDgAAAAAaB0wcAAAAADQOmDgAAAAAKB1wMABAAAAQOuAgQMAAACA1gEDBwAAAAAtg+j/AX++dXepeIECAAAAAElFTkSuQmCC)"
      ],
      "metadata": {
        "id": "H8IsPZ5U-HP-"
      }
    },
    {
      "cell_type": "code",
      "source": [
        "import statistics as s\n",
        "\n",
        "produtos = []\n",
        "quantidades = []\n",
        "\n",
        "for i in range(3):\n",
        "  nome = input(f'Digite o nome do produto {i+1}: ')\n",
        "  quantidade = int(input(f'Digite a quantidade em estoque do produto {i+1}: '))\n",
        "  produtos.append(nome)\n",
        "  quantidades.append(quantidade)\n",
        "\n",
        "produto_remover = input('Digite o nome do produto que deseja remover: ')\n",
        "quantidade_remover = int(input('Digite a quantidade a ser removida: '))\n",
        "\n",
        "if produto_remover in produtos:\n",
        "  indice = produtos.index(produto_remover)\n",
        "  if quantidades[indice] >= quantidade_remover:\n",
        "    quantidades[indice] -= quantidade_remover\n",
        "  else:\n",
        "    print('Quantidade insuficiente em estoque.')\n",
        "else:\n",
        "  print('Produto não encontrado.')\n",
        "\n",
        "print('\\nEstoque atualizado:')\n",
        "for i in range(3):\n",
        "  print(f'{produtos[i]}: {quantidades[i]}')\n"
      ],
      "metadata": {
        "id": "OBG7JXB_-T6r"
      },
      "execution_count": null,
      "outputs": []
    },
    {
      "cell_type": "markdown",
      "source": [
        "Exercício 5\n",
        "\n",
        "Crie um programa em Python que simule o controle de desempenho de três atletas de alto rendimento. O programa deve permitir que o usuário insira o nome dos atletas e suas respectivas pontuações em uma competição. Em seguida, o programa deve solicitar ao usuário para atualizar a pontuação de um atleta específico e, por fim, exibir a lista atualizada de atletas com suas pontuações.\n",
        "\n",
        "Etapas:\n",
        "- Inicialize duas listas: uma para armazenar os nomes dos atletas e outra para armazenar suas pontuações.\n",
        "\n",
        "- Atualize a pontuação do atleta especificado pelo usuário.\n",
        "\n",
        "- Imprima a lista atualizada de atletas com suas pontuações.\n",
        "\n",
        "![image.png](data:image/png;base64,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)\n",
        "\n"
      ],
      "metadata": {
        "id": "VrQf_VVFsWRj"
      }
    },
    {
      "cell_type": "code",
      "source": [
        "import statistics as s\n",
        "\n",
        "atletas = {}\n",
        "\n",
        "for i in range(3):\n",
        "  nome = input(f'Digite o nome do atleta {i+1}: ')\n",
        "  pontos = float(input(f'Digite a pontuação de {nome}: '))\n",
        "  atletas[nome] = pontos\n",
        "\n",
        "print('\\nLista inicial de atletas:')\n",
        "for nome, pontos in atletas.items():\n",
        "  print(f\"{nome}: {pontos}\")\n",
        "\n",
        "atleta_atualizado = input('\\nDigite o nome do atleta para atualizar a pontuação: ')\n",
        "pontos_atualizado = float(input(f'Digite a nova pontuação de {atleta_atualizado}: '))\n",
        "\n",
        "atletas[atleta_atualizado] = pontos_atualizado\n",
        "\n",
        "print('\\nLista atualizada de atletas:')\n",
        "for nome, pontos in atletas.items():\n",
        "  print(f\"{nome}: {pontos}\")\n"
      ],
      "metadata": {
        "colab": {
          "base_uri": "https://localhost:8080/"
        },
        "id": "0vpSiu-aD4PN",
        "outputId": "04ebc048-1f5f-46c2-bf58-4a13b48362cb"
      },
      "execution_count": 62,
      "outputs": [
        {
          "output_type": "stream",
          "name": "stdout",
          "text": [
            "Digite o nome do atleta 1: Pedro\n",
            "Digite a pontuação de Pedro: 7\n",
            "Digite o nome do atleta 2: Maria\n",
            "Digite a pontuação de Maria: 8\n",
            "Digite o nome do atleta 3: Lucas\n",
            "Digite a pontuação de Lucas: 10\n",
            "\n",
            "Lista inicial de atletas:\n",
            "Pedro: 7.0\n",
            "Maria: 8.0\n",
            "Lucas: 10.0\n",
            "\n",
            "Digite o nome do atleta para atualizar a pontuação: Luiz\n",
            "Digite a nova pontuação de Luiz: 0\n",
            "\n",
            "Lista atualizada de atletas:\n",
            "Pedro: 7.0\n",
            "Maria: 8.0\n",
            "Lucas: 10.0\n",
            "Luiz: 0.0\n"
          ]
        }
      ]
    }
  ]
}